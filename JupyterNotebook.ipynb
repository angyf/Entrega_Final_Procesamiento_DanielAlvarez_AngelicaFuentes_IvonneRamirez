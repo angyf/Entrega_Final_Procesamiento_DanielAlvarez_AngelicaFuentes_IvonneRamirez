{
  "nbformat": 4,
  "nbformat_minor": 0,
  "metadata": {
    "colab": {
      "name": "JupyterNotebook.ipynb",
      "provenance": [],
      "collapsed_sections": [
        "RxeYH-NkVhge"
      ],
      "include_colab_link": true
    },
    "kernelspec": {
      "display_name": "Python 3",
      "name": "python3"
    }
  },
  "cells": [
    {
      "cell_type": "markdown",
      "metadata": {
        "id": "view-in-github",
        "colab_type": "text"
      },
      "source": [
        "<a href=\"https://colab.research.google.com/github/angyf/Entrega_Final_Procesamiento_DanielAlvarez_AngelicaFuentes_IvonneRamirez/blob/main/JupyterNotebook.ipynb\" target=\"_parent\"><img src=\"https://colab.research.google.com/assets/colab-badge.svg\" alt=\"Open In Colab\"/></a>"
      ]
    },
    {
      "cell_type": "markdown",
      "metadata": {
        "id": "2VfSYL5SMws6"
      },
      "source": [
        "#INTRODUCCIÓN \n",
        "<div align=\"justify\">\n",
        "\n",
        "Las ECV son las primer cuasa de muerte en la población adulta mexicana. Se ha determinado que son varios los factores biológicos y conductuales que propician el dasarrollo de ECV, como las enfermedades coronarias entre las más comunes. Dentro de estos factores se encuentran el sobepeso, la obesidad, causado por una mala alimentación y falta de actividad física, padecer diabetes, hipertensión, altos niveles de glucosa, colesterol, hiperlipidemias, el tabaquismo, alcoholismo. \n",
        "\n",
        "A pesar de los planes de acción establecidos por el gobierno como, programas te atención a la salud, promoción de actividad física, regímnes alimenticios estrictos, aumento en impuestos de comesibles procesados y cigarrillos entre otros, el número de prevalencia y mortalidad de estas afecciones sigue en aumento. \n",
        "Y es que una de las principales causas de la alta mortalidad es el diagnóstico tardío de enfermedades cardiacas, es decir, cuando una persona es diagnosticada con enfermedad coronaria, su pronóstico de vida o tiempo de supervivencia es muy bajo. \n",
        "Por lo anterior surge la importancia de determinar un pronóstico temprano de las ECV.\n",
        "\n",
        "Es por ello que con este análisis nos enfocaremos en determinar qué factores podrían estar implicados de manera importante en el desarrollo de la enfermedad coronaria (una de las ECV más comunes), y usarlos para predecir qué pacienes son más propensos a tener el riesgo de enfermedad, lo que ayudaría a disminuir los índices de mortalidad.\n",
        "\n",
        "#ANTECEDENTES\n",
        "\n",
        "#<center>EPIDEMIOLOGÍA EN MÉXICO: INCIDENCIA, PREVALENCIA Y MORTALIDAD</center>\n",
        "<div align=\"justify\">\n",
        "\n",
        "En México, así como en el mundo, las defunciones causadas por enfermedades cardiovasculares (ECV) han ocupado el primer lugar entre las principales causas durante varios años, entre ellas, destacan las enfermedades isquémicas del corazón que presentan una alta incidencia entre la población que fallece a partir de los 45 años **[1]**.\n",
        "\n",
        "Los factores de riesgo que se asocian con las ECV son la\n",
        "edad, sexo, tabaquismo, diabetes, hipertensión arterial, obesidad, sobrepeso y sedentarismo, pero la lesión anatomopatológica fundamental es la aterosclerosis (acumulación de grasas, colesterol y otras sustancias dentro y sobre las paredes de las arterias, lo cual puede restringir el flujo sanguíneo), que se presenta con el transcurso de los años y provoca repentinamente daños coronarios y cerebrovasculares. Estos factores de riesgo se clasifican en modificables y no modificables según la posibilidad de influir sobre ellos **[2]**. \n",
        "\n",
        "Aunado a esto, en México se ha logrado una disminución de las enfermedades infecciosas, a través de mejorar la salud materno infantil entre otras acciones y esto se ve reflejado en un aumento de la esperanza de vida, la cual se sitúa actualmente en los 75 años, esto se traduce en un envejecimiento de la población y por ende a una mayor exposición de los factores de riesgo anteriormente mencionados por lo que se relaciona indirectamente con el número de casos con ECV **[3]**. Se ha visto que más del 60 % de la población adulta en México presenta al menos algún factor de riesgo de ECV, que junto al proceso de envejecimiento de la población genera un incremento de enfermedades asociadas a la edad, como son las ECV **[4]**.\n",
        "\n",
        "Asimismo, se han observado incrementos en la prevalencia de obesidad, hipercolesterolemia, hipertensión arterial y síndrome metabólico, que de acuerdo con las encuestas nacionales destacan el sobrepeso y la obesidad, cuya prevalencia en México se ha incrementado con el tiempo hasta convertirse actualmente en la más alta del mundo, constituyendo el principal factor de riesgo cardiovascular modificable **[4]**. \n",
        "De acuerdo a la Encuesta Nacional de Salud y Nutrición (ENSANUT), en 2018 el porcentaje de adultos de 20 años o más, con sobrepeso y obesidad, es de 75.2% (39.1% y 36.1% respectivamente), porcentaje que en 2012 fue del 71.3 %. En tanto que la hipertensión pasó de un 16.6% en 2012 a 18.4% en 2018 **[5]**. \n",
        "\n",
        "En México, el Sistema Nacional de Salud afirma que la cardiopatía isquémica y la diabetes mellitus, enfermedades relaconadas a ECV, son dos de los más grandes problemas de la salud pública. La cardiopatía afecta sobre todo a los hombres de mediana y avanzada edad y su mortalidad es 20% más alta en los hombres que en las mujeres. El mayor número de defunciones ocurre en personas de ambos géneros de 65 años o más, lo que subraya que la edad avanzada es un poderoso inductor de esta enfermedad. \n",
        "La pirámide poblacional determina que la mayoría de los adultos (75%) tiene menos de 55 años y a pesar de que la prevalencia de los factores de riesgo cardiovascular es mayor después de los 40 años, la población que padece alguno de los factores de riesgo, se ubica en la población económicamente activa, con sus consecuencias negativas, tanto a nivel social, a nivel económico y en la calidad de vida. Así, las ECV caen dentro del rubro de gastos excesivos **[6]**. \n",
        "\n",
        "Algunos datos generales:\n",
        "\t\n",
        "*   Las enfermedades no transmisibles (ENT), incluyendo enfermedades cardiovasculares, se estima que representan el 77% del total de muertes de adultos en México.  \n",
        "\n",
        "*   Las ECV representan casi una cuarta parte (24%) de estos decesos.  \n",
        "\n",
        "Algunos de los factores de riesgo, relacionados con las enfermedades cardiovasculares en adultos en México, se describen a continuación:  \n",
        "\n",
        "*   17% de la población es fumadora.\n",
        "*   22.8% tienen hipertensión, que puede aumentar el riesgo de ataque O insuficiencia cardíaca, enfermedad renal o derrame cerebral. \n",
        "*   1 de cada 3 adultos (32.1%) adultos en México son obesos.\n",
        "*   En el año 2014 casi un tercio de las mujeres (32.7%) fueron clasificados como personas obesas; la obesidad es el factor de riesgo cardiovascular más común entre las mujeres **[7]**.\n",
        "\n",
        "Como marco de referencia para comprender el impacto que tienen estas enfermedades, se puede comparar con la situación de pandemia que se vive en la actualidad. De acuerdo a datos del INEGI, las defunciones por COVID-19, en el periodo de enero a agosto de 2020, ocupan la segunda causa de muerte a nivel global con 108 658 casos, por debajo de las enfermedades del corazón que ocupan el primer lugar con 141 873 y por encima de la diabetes mellitus que ocupa el tercer lugar con 99 733.\n",
        "\n",
        "Del número de muertes causadas por enfermedades del corazón, la mayoría tuvieron lugar en personas del sexo masculino con 78 929 muertes, es decir, 16 216 más que el sexo femenino que registró 62 713 defunciones. Cabe mencionar que, si bien el número de muertes por ECV en hombres es mayor, en las mujeres representan 22.32% del total de defunciones, mientras en los hombres representan 19.64%. \n",
        "Aunado a esto, se había realizado una proyección de un acumulado de 100 624 muertes por ECV y ocurrieron 139 436 defunciones, por lo que el exceso de mortalidad en este rubro es de 38 812 decesos, lo que representa un 38.6% más de lo proyectado **[1]**.\n",
        "\n",
        "A continuación, se describen algunos de los principales factores de riesgo mencionados, factores biológicos y conductuales, cómo ha afectado a la población, y qué se ha hecho para atacar el problema desde diferentes planes de acción.\n",
        "\n",
        "\n",
        "\n",
        "###**<center>1. FACTORES BIOLÓGICOS: SOBREPESO Y OBESIDAD**</center>\n",
        "\n",
        "\n",
        "Las ECV (enfermedades cardiovasculares) son la mayor causa de muerte en el mundo, han ocasionado cerca de un tercio del total de muertes a nivel mundial **[11]**, y su asociación con la obesidad pandémica y la creciente conducta sedentaria, lo vuelve un problema de interés global tanto de salud como económico, siendo que la obesidad también representa altos costos  médicos. Desde el año de 1980, la prevalencia de obesidad se ha duplicado en alrededor de 70 países incluyendo México **[12]**. \n",
        "En nuestro país, el sobrepeso y la obesidad han aumentado en todas las edades, regiones y grupos socioeconómicos, lo que nos ha llevado a ocupar el segundo lugar en el mundo en obesidad en adultos y el primer lugar en obesidad infantil. En 2016, el 39% de las personas adultas de 18 o más años tenían sobrepeso, y el 13% eran obesas. Lo anterior implica también un problema económico para nuestro país puesto que se consume un porcentaje muy elevado del presupuesto en salud. Estimados  en  151  894  millones  de  pesos  sólo  en  2014,  lo  cual  equivale  a  34%  del  gasto  público  en  salud  y  causa  una  pérdida  de  productividad  estimada  en 71 669 millones de pesos (0.4% del pib) por año **[13]**.\n",
        "El sobrepeso y la obesidad se definen como una acumulación anormal o excesiva de grasa que puede ser perjudicial para la salud. El índice de masa corporal (IMC) es un indicador de la relación entre el peso y la talla que se utiliza frecuentemente para identificar el sobrepeso y la obesidad en los adultos. Se calcula dividiendo el peso de una persona en kilos por el cuadrado de su talla en metros (kg/m2) **[14]**.\n",
        "En el caso de los adultos, la OMS define el sobrepeso y la obesidad como:\n",
        "\t•\tsobrepeso: IMC igual o superior a 25.\n",
        "\t•\tobesidad: IMC igual o superior a 30.\n",
        "El IMC proporciona la medida más útil del sobrepeso y la obesidad en la población, pues es la misma para ambos sexos y para los adultos de todas las edades. Sin embargo, hay que considerarla como un valor aproximado porque puede no corresponderse con el mismo nivel de grosor en diferentes personas.\n",
        "La causa fundamental del sobrepeso y la obesidad es un desequilibrio energético entre calorías consumidas y gastadas, es decir, un aumento en la ingesta de alimentos de alto contenido calórico que son ricos en grasa y un descenso en la actividad física debido a la naturaleza cada vez más sedentaria de muchas formas de trabajo, los nuevos modos de transporte y la creciente urbanización **[14]**.\n",
        "Cabe señalar que algunos individuos con sobrepeso que tienen un alto IMC, no tienen evidencia de padecer de factores de riesgo asociados a ECV, a estas personas se dice que tienen una obesidad metabólica saludable (OMS) **[15-16]**. \n",
        "Sin embargo, un estudio hecho con una cohorte de 3.5 millones de individuos encontrarorn que, después de un seguimiento medio de 5.4 años, las personas con OMS tenían un riesgo mayor de padecer una enfermedad arterial coronaria, enfermedad cerebrovascular o falla cardiaca con respecto a personas metabólicamente sanas no obesas **[17]**. \n",
        "Lo anterior sugiere que la obesidad, es un factor que requiere evaluación médica y tratamiento adecuado, puesto que también se sabe que las personas con OMS tienen un mayor riesgo del 24-33% de mortalidad por ECV comparadas con personas metabólicamente sanas no obesas **[18]**. También se ha encontrado que personas con OMS que mantienen o incrementan su peso, pueden presentar mayores niveles de glucosa, triglicéridos, mayor presión sanguínea, y tener menores niveles de colesterol HDL en comparación con personas metabólicamente sanas no obesas **[19]**. Todos estos factores anteriormente mencionados, están directamente relacionados con el desarrollo de algunas comorbilidades como las que se mencionan a continuación.\n",
        "\n",
        "  \n",
        "\t•\tHipertensión.\n",
        "\n",
        "Estudios realizados en diferentes poblaciones del mundo, han mostrado una relación casi lineal entre el IMC y la presión sistólica sanguínea. No obstante, pareciera haber una diferencia respecto al sexo, puesto que mujeres en etapa pre-menopausica tienen menor riesgo de desarrollar ECV en comparación con hombres en el mismo grupo de edad, lo que ha sugerido que los estrógenos tienen un papel cardio-protector **[20]**. Aún así, para ambos sexos, y de acuerdo con el Colegio Americano de Cardiología y los lineamientos para el manejo de la presión sanguínea, la pérdida de peso es crucial y altamente recomendado, el cual debe realizarse mediante la combinación de reducir la ingesta calórica e incrementar de manera sustacial la actividad física, con ello, el mejoramiento de la presión sanguínea es consistente **[21]**. \n",
        "\n",
        "\t•\tEnfermedad arterial coronaria (EAC)\n",
        "\n",
        "Se ha encontrado que la obesidad está asociada con la EAC independientemente a otros factores de riesgo, lo que se ha sustentado con estudios realizados en hombres jóvenes ya fallecidos (por causas externas) de edad entre 15 a 34 años, donde se ha reportado que un alto IMC se asocia con un alto número de lesiones en la arteria coronaria y con un grado microscópico de aterosclerosis en la misma arteria, con lo que se concluye que la obesidad en la adolescencia y en la juventud, no solo se asocia con el desarrollo de aterosclerosis de manera temprana, sino, que puede predecirse tambien la morbilidad y mortalidad por EAC **[22]**. Es importante mencionar que la obesidad también se asocial con múltiples factores de riesgo para el desarrollo de EAC, como hipertensión, dislipidemias, síndrome metabólico y diabetes mellitus. Las dislipidemias se han considerado como el factor de riesgo más importante para sufrir infartos al miocardio. Diversos estudios han mostrado evidencia de que la pérdida de pes puede revertir los factores de riesg asociados a EAC y potencialmente reducir la mortalidad **[23-24]**. \n",
        "\n",
        "\t•\tFalla cardiaca\n",
        "La obesidad es el principal factor de riesgo para el desarrollo de una falla cardiaca. Estudios previos han mostrado que el IMC se correlaciona con el riesgo de falla cardiaca; el riesgo incrementa en un 5% para los hombres y en un 7% para las mujeres por cada unidad que aumente el IMC. Esta correlacion positiva se ha confirmado con estudios donde participantes con sobrepeso y obesidad tienen un 49% y 180% de mayor riesgo de falla cardiaca respectivamente con respecto a pacientes en su peso ideal **[25]**. \n",
        "\n",
        "\t•\tActividad física para la pérdida de peso\n",
        "Aunque un tiempo mínimo de ejercicio físico de 150 min/semana (moderado) o 75 min/semana (vigoroso) puede mejorar la salud cardiovascular, estos tiempos son inadecuados para una pérdida de peso clínicamente significativa **[26]**. Ya que a pesar de que programas consistentes en recomendaciones de salud publica, típicamente producen la pérdida resultante de (~ 2 kg), una pérdida significativa debe ser de ≥ 5% del peso total con lo que se reduciría de manera efectiva el riesgo de desarrollar ECV **[27]**.\n",
        "\n",
        "\n",
        "###**<center>2. FACTORES CONDUCTUALES: TABAQUISMO, ALCOHOLISMO Y RÉGIMEN ALIMENTICIO**</center>\n",
        "\t\n",
        "\n",
        "De acuerdo con la organización mundial de la salud entre los factores de riesgo más importantes de enfermedades cardiovasculares se encuentran el consumo nocivo de tabaco y alcohol, así como una dieta malsana **[28]**.\n",
        "\n",
        "\t•\tTABAQUISMO\n",
        "Ha sido reportado que el tabaquismo aumenta el riesgo de padecer ECV más allá que otros factores de riesgo **[29]** pues se estima que la exposición al humo de tabaco, así como su consumo, son responsables del 17% de las muertes por enfermedades del corazón a nivel mundial, además es la segunda causa de enfermedades cardiovasculares después de la hipertensión arterial. \n",
        "En nuestro país durante el año 2017 el 13% de las muertes por enfermedades isquémicas al corazón fueron causadas por tabaquismo **[30]**. Así mismo, de acuerdo con la Encuesta nacional de salud y nutrición, la prevalencia de consumo actual de tabaco entre adultos (personas mayores a 19 años) es de 17.9% en donde la razón hombre:mujer es de 3, esto quiere decir que la población masculina fumadora es tres veces mayor a la femenina **[31]**.\n",
        "A pesar de que el consumo nocivo de tabaco aumenta el riesgo de la presencia de ECV, hasta ahora no se ha logrado establecer que una reducción del consumo de cigarrillos reduzca notablemente el riesgo de sufrir una enfermedad cardiovascular, sin embargo, la duración de la presencia del tabaquismo si presenta mayor riesgo por lo que el dejar de fumar reduce el riesgo de morbilidad y mortalidad cardiovascular en personas que presenten o no cardiopatía coronaria **[32]**.\n",
        "De manera general la OMS ha creado el convenio marco de la OMS para el control del tabaco, que contiene directrices y requisitos para la implementación de las medidas de control del tabaco. Algunas disposiciones clave en este convenio son: elevar impuestos sobre productos de tabaco, protección contra la exposición al humo de tabaco ajeno con la creación de espacios libres de tabaco, advertencias en el empaquetado de cigarrillos y prohibición de publicidad de estos productos. Así mismo este tratado contempla otras cuestiones entre ellas la venta a menores y por menores de estos productos **[33]**.\n",
        "\n",
        "\t•\tALCOHOLISMO\n",
        "\n",
        "Mundialmente de todas las muertes atribuibles al alcohol el 19% fueron asociadas a enfermedades cardiovasculares **[34]**. Aunque el consumo en dosis pequeñas de alcohol reduce el riesgo de tener problemas cardiacos, se sigue debatiendo cual ha de ser el tamaño de dicha dosis para que resulte beneficiosa ya que se ha comparado que el riesgo de una enfermedad coronaria aumenta si el consumo es mayor a 20g diarios de alcohol, pues el beber grandes cantidades en una sola ocasión aumenta el riesgo de arritmias cardiacas y muerte repentina por problemas coronarios, así como el riesgo de hipertensión **[35]**.\n",
        "En la población adulta mexicana existe una prevalencia de 94.3% donde no se observa diferencia entre el número de hombres y mujeres consumidores. Sin embargo, el 35.5% de la población se refiere a personas con consumo excesivo (cinco o más copas por ocasión en el último mes en el caso de los hombres y cuatro o más en el caso de las mujeres) **[31]**. La diferencia entre el número de copas ingeridas varia por sexo ya que las mujeres parecen estar más expuestas a sufrir daños crónicos producidos por el alcohol que se ha asociado con el hecho de que tienen una cantidad inferior de agua corporal en relación con su peso. \n",
        "Al igual que el tabaquismo, el riesgo de sufrir una ECV reduce si la persona suspende la ingesta de alcohol, sin embargo, no elimina completamente el riesgo, por lo que un consumo prolongado de alcohol presenta mayor riesgo **[34]**.\n",
        "\n",
        "\t•\tRÉGIMEN ALIMENTICIO\n",
        "\n",
        "La ingesta adecuada de nutrientes ayuda a prevenir la presencia de enfermedades cardiovasculares y algunos otros factores como la obesidad, sin embargo, la mejora de los hábitos dietéticos es un problema de la sociedad y no solo de cada uno de los individuos. Dentro de las recomendaciones generales para lograr una dieta saludable incluyen aumentar el consumo de frutas y verduras, así como reducir la ingesta calórica de grasas, azucares y el consumo de sal **[36]**.\n",
        "En México 55.5% de los hogares no cuentan con seguridad alimenticia y el consumo de alimentos y bebidas azucaradas es muy frecuente tanto en niños como en adultos. Así mismo la venta de productos industrializados es cada vez mayor pues a pesar de contar con regulaciones sobre el etiquetado de productos procesados, esto no resulta útil cuando más del 75% de la población no conoce cuál debe ser su consumo promedio diario de calorías o cuando el 10.2% de la población no sabe leer, es por ello que esto implica un problema social **[31]**.\n",
        "Dentro de la dieta alimentaria uno de los factores que se remarca es ingesta de sodio ya que se estima que mundialmente podría evitarse la defunción de 2.5 millones de personas anualmente si el consumo de sal redujera, esto debido a que un consumo elevado de sodio contribuye a la hipertensión arterial y aumenta el riesgo de cardiopatías y accidentes cerebrovasculares, por lo que un consumo menor a 5 gramos diarios en adultos contribuya a disminuir estos riesgos por lo que se necesita crear entornos donde la población tenga acceso a alimentos salubres y nutritivos **[37]**.\n",
        "Con el fin de brindar a la población mayor conocimiento sobre buenos hábitos alimenticios, la Organización Panamericana de la Salud brinda liderazgo y cooperación técnica a los Estados Miembros en materia de nutrición saludable, así como también se encarga de promover, generar y difundir información sobre estos temas clave, políticas e intervenciones **[38]**. En nuestro país la medida más es el  etiquetado frontal de advertencia para alimentos y bebidas que ofrecerá a los consumidores información clara y sencilla sobre el exceso de nutrientes en los alimentos procesados **[39]**.\n",
        "\n",
        "\n",
        "#<center>PLANTEAMIENTO DEL PROBLEMA\n",
        "\n",
        "\n",
        "La Organización Mundial de la Salud ha estimado que ocurren 12 millones de muertes en todo el mundo, cada año debido a enfermedades cardíacas y en México, las ECV ocupan el primer lugar entre las principales causas durante por enfermedades no transmisibles. A pesar de los planes de acción establecidos por el gobierno como, programas te atención a la salud, promoción de actividad física, regímnes alimenticios estrictos, aumento en impuestos de comesibles procesados y cigarrillos entre otros, el número de prevalencia y mortalidad de estas afecciones sigue en aumento. \n",
        "Dado este contexto, el análisis de la mortalidad por ECV en México se vuelve prioritario, para lo que se debe medir su impacto en la salud de la población. Estudiar su tendencia en el tiempo permite comprender cómo el estado de salud de la población cambia y posibilita a las instituciones replantear programas preventivos para intentar mitigar su efecto negativo. Otra forma de ayudar en la resolución del problema de la alta mortalidad, es determinar un pronóstico temprano de las ECV, ayudando a tomar decisiones sobre cambios en el estilo de vida de pacientes de alto riesgo y, a su vez, reducir las complicaciones de forma más personalizada y directa.\n",
        "Es por ello que en este análisis nos enfocaremos en determinar qué factores podrían estar implicados de manera importante en el desarrollo de la enfermedad coronaria crónica (una de las ECV más comunes), y usarlos para predecir qué pacienes son más propensos a tener el riesgo de enfermedad.\n",
        "\n",
        "#<center>PREGUNTAS DE INVESTIGACIÓN\n",
        "\n",
        "Como parte de las preguntas que nos interesa responder acerca de nuestra población de estudio son:\n",
        "\n",
        "* ¿Qué porcentaje de la poblacion tiene algún factor de riesgo de los ya mencionados?\n",
        "* ¿Qué porcentaje de hombres y mujeres conforman la población con ECV?\n",
        "* ¿Cuántos hombres y cuántas mujeres ya sufren de una ECV?\n",
        "* ¿Cuál es la edad promedio de nuestra población de estudio? ¿Se encuentran dentro de la poblacón de riesgo ya reportada?\n",
        "* ¿Cómo son los niveles promedio de colesterol, glucosa, presión sangínea, IMC de la población? ¿En su mayoría están fuera de lo normal?\n",
        "* ¿Qué porcentaje de la población es fumadora? ¿Quiénes fuman más, los hombres o las mujeres?\n",
        "* ¿Cuántas personas son alcohólicas?\n",
        "* ¿El alcoholismo podría ser una variable predictiva para el desarrollo de EVC?\n",
        "* ¿Qué variables podrían estar más asociadas al riesgo de desarrollo de ECV?\n",
        "* ¿Existen difrencias significativas entre poblaciones respecto a niveles de los diferentes factores de riesgo?\n",
        "* ¿Se podría construir un modelo que ayude a la predicción de desarrollar una ECV?\n",
        "\n",
        "\n",
        "\n",
        "**De acuerdo a los análisis realizados previamente en otro grupo poblacional de prueba, encontramos hallazgos que nos permitieron plantear la siguiente hipótesis.**\n",
        "\n",
        "#<center>HIPÓTESIS\n",
        "Los principales factores de riesgo que se asocian significativamente al desarrollo de ECV y que ayudan a la predicción de padecer o no una enfermedad cardiaca son: el sexo, la edad, fallas cardiacas, ser fumador, tener altos nivel de colesterol, alto IMC y alta presión sanguínea.\n",
        "\n",
        "\n",
        "\n",
        "#<center>METODOLOGÍA DE ANÁLISIS\n",
        "\n",
        "\n",
        "###**BÚSQUEDA DE BASES DE DATOS REVISADAS PARA PROBAR LA HIPÓTESIS**\n",
        "https://www.kaggle.com/imnikhilanand/heart-attack-prediction\n",
        "\n",
        "https://www.kaggle.com/mathchi/diabetes-data-set\n",
        "\n",
        "https://www.kaggle.com/kashnitsky/a2-demo-analyzing-cardiovascular-data\n",
        "\n",
        "https://www.kaggle.com/kashnitsky/mlcourse?select=mlbootcamp5_train.csv\n",
        "\n",
        "\n",
        "###**ELECCIÓN DE LA BASE DE DATOS**\n",
        "De las bases de datos revisadas, se eligió la que se muestra a continuación para realizar el análisis. Puesto que contiene datos suficientes sobre los factores de riesgo que destacan en el desarrollo de ECV.\n",
        "\n",
        "https://www.kaggle.com/kashnitsky/mlcourse?select=mlbootcamp5_train.csv\n",
        "\n"
      ]
    },
    {
      "cell_type": "code",
      "metadata": {
        "id": "i5_iITj4qbRX"
      },
      "source": [
        "#Iniciamos realizando la carga de paqueterias que seran de utilidad.\r\n",
        "import pandas as pd\r\n",
        "import requests\r\n",
        "import numpy as np\r\n",
        "import math"
      ],
      "execution_count": 1,
      "outputs": []
    },
    {
      "cell_type": "markdown",
      "metadata": {
        "id": "BJhwCbNaJ32A"
      },
      "source": [
        "## POSTWORK 3\r\n",
        "\r\n",
        "Una vez elegida la base de datos útil para realizar los análisis, se procedio con la carga de esta."
      ]
    },
    {
      "cell_type": "code",
      "metadata": {
        "colab": {
          "base_uri": "https://localhost:8080/",
          "height": 406
        },
        "id": "ijYq9JoZscMl",
        "outputId": "0451f5d2-6d90-422f-c0c7-28109e88860f"
      },
      "source": [
        "#carga de datos\r\n",
        "df = pd.read_csv('https://raw.githubusercontent.com/angyf/Entrega_Final_Procesamiento_DanielAlvarez_AngelicaFuentes_IvonneRamirez/main/mlbootcamp5_train.csv', sep=',')\r\n",
        "df\r\n"
      ],
      "execution_count": 2,
      "outputs": [
        {
          "output_type": "execute_result",
          "data": {
            "text/html": [
              "<div>\n",
              "<style scoped>\n",
              "    .dataframe tbody tr th:only-of-type {\n",
              "        vertical-align: middle;\n",
              "    }\n",
              "\n",
              "    .dataframe tbody tr th {\n",
              "        vertical-align: top;\n",
              "    }\n",
              "\n",
              "    .dataframe thead th {\n",
              "        text-align: right;\n",
              "    }\n",
              "</style>\n",
              "<table border=\"1\" class=\"dataframe\">\n",
              "  <thead>\n",
              "    <tr style=\"text-align: right;\">\n",
              "      <th></th>\n",
              "      <th>id</th>\n",
              "      <th>age</th>\n",
              "      <th>gender</th>\n",
              "      <th>height</th>\n",
              "      <th>weight</th>\n",
              "      <th>ap_hi</th>\n",
              "      <th>ap_lo</th>\n",
              "      <th>cholesterol</th>\n",
              "      <th>gluc</th>\n",
              "      <th>smoke</th>\n",
              "      <th>alco</th>\n",
              "      <th>active</th>\n",
              "      <th>cardio</th>\n",
              "    </tr>\n",
              "  </thead>\n",
              "  <tbody>\n",
              "    <tr>\n",
              "      <th>0</th>\n",
              "      <td>0</td>\n",
              "      <td>18393</td>\n",
              "      <td>2</td>\n",
              "      <td>168</td>\n",
              "      <td>62.0</td>\n",
              "      <td>110</td>\n",
              "      <td>80</td>\n",
              "      <td>1</td>\n",
              "      <td>1</td>\n",
              "      <td>0</td>\n",
              "      <td>0</td>\n",
              "      <td>1</td>\n",
              "      <td>0</td>\n",
              "    </tr>\n",
              "    <tr>\n",
              "      <th>1</th>\n",
              "      <td>1</td>\n",
              "      <td>20228</td>\n",
              "      <td>1</td>\n",
              "      <td>156</td>\n",
              "      <td>85.0</td>\n",
              "      <td>140</td>\n",
              "      <td>90</td>\n",
              "      <td>3</td>\n",
              "      <td>1</td>\n",
              "      <td>0</td>\n",
              "      <td>0</td>\n",
              "      <td>1</td>\n",
              "      <td>1</td>\n",
              "    </tr>\n",
              "    <tr>\n",
              "      <th>2</th>\n",
              "      <td>2</td>\n",
              "      <td>18857</td>\n",
              "      <td>1</td>\n",
              "      <td>165</td>\n",
              "      <td>64.0</td>\n",
              "      <td>130</td>\n",
              "      <td>70</td>\n",
              "      <td>3</td>\n",
              "      <td>1</td>\n",
              "      <td>0</td>\n",
              "      <td>0</td>\n",
              "      <td>0</td>\n",
              "      <td>1</td>\n",
              "    </tr>\n",
              "    <tr>\n",
              "      <th>3</th>\n",
              "      <td>3</td>\n",
              "      <td>17623</td>\n",
              "      <td>2</td>\n",
              "      <td>169</td>\n",
              "      <td>82.0</td>\n",
              "      <td>150</td>\n",
              "      <td>100</td>\n",
              "      <td>1</td>\n",
              "      <td>1</td>\n",
              "      <td>0</td>\n",
              "      <td>0</td>\n",
              "      <td>1</td>\n",
              "      <td>1</td>\n",
              "    </tr>\n",
              "    <tr>\n",
              "      <th>4</th>\n",
              "      <td>4</td>\n",
              "      <td>17474</td>\n",
              "      <td>1</td>\n",
              "      <td>156</td>\n",
              "      <td>56.0</td>\n",
              "      <td>100</td>\n",
              "      <td>60</td>\n",
              "      <td>1</td>\n",
              "      <td>1</td>\n",
              "      <td>0</td>\n",
              "      <td>0</td>\n",
              "      <td>0</td>\n",
              "      <td>0</td>\n",
              "    </tr>\n",
              "    <tr>\n",
              "      <th>...</th>\n",
              "      <td>...</td>\n",
              "      <td>...</td>\n",
              "      <td>...</td>\n",
              "      <td>...</td>\n",
              "      <td>...</td>\n",
              "      <td>...</td>\n",
              "      <td>...</td>\n",
              "      <td>...</td>\n",
              "      <td>...</td>\n",
              "      <td>...</td>\n",
              "      <td>...</td>\n",
              "      <td>...</td>\n",
              "      <td>...</td>\n",
              "    </tr>\n",
              "    <tr>\n",
              "      <th>69995</th>\n",
              "      <td>99993</td>\n",
              "      <td>19240</td>\n",
              "      <td>2</td>\n",
              "      <td>168</td>\n",
              "      <td>76.0</td>\n",
              "      <td>120</td>\n",
              "      <td>80</td>\n",
              "      <td>1</td>\n",
              "      <td>1</td>\n",
              "      <td>1</td>\n",
              "      <td>0</td>\n",
              "      <td>1</td>\n",
              "      <td>0</td>\n",
              "    </tr>\n",
              "    <tr>\n",
              "      <th>69996</th>\n",
              "      <td>99995</td>\n",
              "      <td>22601</td>\n",
              "      <td>1</td>\n",
              "      <td>158</td>\n",
              "      <td>126.0</td>\n",
              "      <td>140</td>\n",
              "      <td>90</td>\n",
              "      <td>2</td>\n",
              "      <td>2</td>\n",
              "      <td>0</td>\n",
              "      <td>0</td>\n",
              "      <td>1</td>\n",
              "      <td>1</td>\n",
              "    </tr>\n",
              "    <tr>\n",
              "      <th>69997</th>\n",
              "      <td>99996</td>\n",
              "      <td>19066</td>\n",
              "      <td>2</td>\n",
              "      <td>183</td>\n",
              "      <td>105.0</td>\n",
              "      <td>180</td>\n",
              "      <td>90</td>\n",
              "      <td>3</td>\n",
              "      <td>1</td>\n",
              "      <td>0</td>\n",
              "      <td>1</td>\n",
              "      <td>0</td>\n",
              "      <td>1</td>\n",
              "    </tr>\n",
              "    <tr>\n",
              "      <th>69998</th>\n",
              "      <td>99998</td>\n",
              "      <td>22431</td>\n",
              "      <td>1</td>\n",
              "      <td>163</td>\n",
              "      <td>72.0</td>\n",
              "      <td>135</td>\n",
              "      <td>80</td>\n",
              "      <td>1</td>\n",
              "      <td>2</td>\n",
              "      <td>0</td>\n",
              "      <td>0</td>\n",
              "      <td>0</td>\n",
              "      <td>1</td>\n",
              "    </tr>\n",
              "    <tr>\n",
              "      <th>69999</th>\n",
              "      <td>99999</td>\n",
              "      <td>20540</td>\n",
              "      <td>1</td>\n",
              "      <td>170</td>\n",
              "      <td>72.0</td>\n",
              "      <td>120</td>\n",
              "      <td>80</td>\n",
              "      <td>2</td>\n",
              "      <td>1</td>\n",
              "      <td>0</td>\n",
              "      <td>0</td>\n",
              "      <td>1</td>\n",
              "      <td>0</td>\n",
              "    </tr>\n",
              "  </tbody>\n",
              "</table>\n",
              "<p>70000 rows × 13 columns</p>\n",
              "</div>"
            ],
            "text/plain": [
              "          id    age  gender  height  weight  ...  gluc  smoke  alco  active  cardio\n",
              "0          0  18393       2     168    62.0  ...     1      0     0       1       0\n",
              "1          1  20228       1     156    85.0  ...     1      0     0       1       1\n",
              "2          2  18857       1     165    64.0  ...     1      0     0       0       1\n",
              "3          3  17623       2     169    82.0  ...     1      0     0       1       1\n",
              "4          4  17474       1     156    56.0  ...     1      0     0       0       0\n",
              "...      ...    ...     ...     ...     ...  ...   ...    ...   ...     ...     ...\n",
              "69995  99993  19240       2     168    76.0  ...     1      1     0       1       0\n",
              "69996  99995  22601       1     158   126.0  ...     2      0     0       1       1\n",
              "69997  99996  19066       2     183   105.0  ...     1      0     1       0       1\n",
              "69998  99998  22431       1     163    72.0  ...     2      0     0       0       1\n",
              "69999  99999  20540       1     170    72.0  ...     1      0     0       1       0\n",
              "\n",
              "[70000 rows x 13 columns]"
            ]
          },
          "metadata": {
            "tags": []
          },
          "execution_count": 2
        }
      ]
    },
    {
      "cell_type": "markdown",
      "metadata": {
        "id": "UegZZfX2J7JJ"
      },
      "source": [
        "## POSTWORK 4\r\n",
        "### Exploración general de la base de datos para su limpieza."
      ]
    },
    {
      "cell_type": "markdown",
      "metadata": {
        "id": "2gz243V8uZoX"
      },
      "source": [
        "1. ¿El conjunto de datos que tengo realmente me sirve para responder algunas de las preguntas que me planteé?\r\n",
        "\r\n",
        "    Sí, debido a que contiene información para realizar un análisis útil para responder las preguntas iniciales.\r\n"
      ]
    },
    {
      "cell_type": "markdown",
      "metadata": {
        "id": "RcxV731wgC2p"
      },
      "source": [
        "2. ¿Qué tamaño tiene mi conjunto de datos? ¿Serán datos suficientes?\r\n",
        "\r\n",
        "  El dataframe, cuenta con 70,000 registros y 13 campos.\r\n",
        "  \r\n",
        "  Consideramos que el número de registros es suficientepara hacer un análisis. "
      ]
    },
    {
      "cell_type": "code",
      "metadata": {
        "colab": {
          "base_uri": "https://localhost:8080/"
        },
        "id": "tXBP3SxrusAj",
        "outputId": "3009aaeb-c473-49f2-b573-f7f62b7d9ba1"
      },
      "source": [
        "#Veamos las dimensiones de nuestro dataframe\r\n",
        "df.shape"
      ],
      "execution_count": 3,
      "outputs": [
        {
          "output_type": "execute_result",
          "data": {
            "text/plain": [
              "(70000, 13)"
            ]
          },
          "metadata": {
            "tags": []
          },
          "execution_count": 3
        }
      ]
    },
    {
      "cell_type": "markdown",
      "metadata": {
        "id": "wsxYNsDchUep"
      },
      "source": [
        "3. ¿Qué columnas tengo y qué información tengo en cada una de esas columnas? \r\n",
        "\r\n",
        "* El primer campo (id) consiste solamente en un identificador para los \r\n",
        "  registros.\r\n",
        "\r\n",
        "* El campo (age) contiene información sobre la edad de la persona en días.\r\n",
        "\r\n",
        "* El campo (height) contiene información sobre el peso de las personas con unidades de medida en kilogramos.\r\n",
        "\r\n",
        "* El campo (gender) indica el sexo de la persona, donde 1 es mujer y 2 es hombre\r\n",
        "\r\n",
        "* El campo (weight) contiene información sobre la altura de las personas con unidad de medida en centimetros.\r\n",
        "\r\n",
        "* El campo (ap_hi) representa el nivel de presión sistólica medida en milímetros de \r\n",
        "  mercurio.\r\n",
        "\r\n",
        "* El campo (ap_lo) representa el nivel de presión diastólica medida en milímetros de \r\n",
        "  mercurio.\r\n",
        "\r\n",
        "* El campo (cholesterol) indica el nivel de colesterol 1: normal, 2: por arriba de lo normal y 3: lejos de lo normal\r\n",
        "\r\n",
        "* El campo (gluc) indica el nivel de glucosa 1: normal, 2: por arriba de lo normal y 3: lejos de lo normal\r\n",
        "\r\n",
        "* El campo (smoke) indica si la persona fuma o no fuma.\r\n",
        "\r\n",
        "* El campo (alco) indica si la persona consume o no alcohol.\r\n",
        "  \r\n",
        "* El campo (active) indica si la persona realiza o no actividad \r\n",
        "  física.\r\n",
        "\r\n",
        "* El campo (cardio) indica si la persona \r\n",
        "  tiene o no una enfermedad cardiovascular.\r\n"
      ]
    },
    {
      "cell_type": "markdown",
      "metadata": {
        "id": "LDG92MgOjG0d"
      },
      "source": [
        "4.  Los nombres que tienen mis **columnas**, ¿son el nombre más apropiado?\r\n",
        "\r\n",
        "  No todas,ya que en las columnas ap_hi y ap_lo los nombres no aportan \r\n",
        "  información por si solas, así mismo consideramos que sería mejor nombrar las columnas en español."
      ]
    },
    {
      "cell_type": "code",
      "metadata": {
        "colab": {
          "base_uri": "https://localhost:8080/"
        },
        "id": "NI41VPs93lwj",
        "outputId": "4338a737-e0b5-4d0a-a19f-8160c49dd6f4"
      },
      "source": [
        "#Consultamos el nombre de las columnas de la tabla\r\n",
        "df.columns\r\n"
      ],
      "execution_count": 4,
      "outputs": [
        {
          "output_type": "execute_result",
          "data": {
            "text/plain": [
              "Index(['id', 'age', 'gender', 'height', 'weight', 'ap_hi', 'ap_lo',\n",
              "       'cholesterol', 'gluc', 'smoke', 'alco', 'active', 'cardio'],\n",
              "      dtype='object')"
            ]
          },
          "metadata": {
            "tags": []
          },
          "execution_count": 4
        }
      ]
    },
    {
      "cell_type": "markdown",
      "metadata": {
        "id": "aYhlU_KBjUyY"
      },
      "source": [
        "5. ¿Qué tipos de datos tengo en cada columna? \r\n",
        "\r\n",
        "  Todos los tipos de datos excepto weight son enteros y seran tratados como \r\n",
        "  tal, sin embargo algunos de ellos representan datos categoricos como lo\r\n",
        "  son gender, cholesterol:cardio."
      ]
    },
    {
      "cell_type": "code",
      "metadata": {
        "colab": {
          "base_uri": "https://localhost:8080/"
        },
        "id": "JE41CoOx0T5N",
        "outputId": "44190c88-c86a-494e-8136-3530efc8a0c2"
      },
      "source": [
        "#Tipos de datos que contiene la tabla\r\n",
        "df.dtypes"
      ],
      "execution_count": 5,
      "outputs": [
        {
          "output_type": "execute_result",
          "data": {
            "text/plain": [
              "id               int64\n",
              "age              int64\n",
              "gender           int64\n",
              "height           int64\n",
              "weight         float64\n",
              "ap_hi            int64\n",
              "ap_lo            int64\n",
              "cholesterol      int64\n",
              "gluc             int64\n",
              "smoke            int64\n",
              "alco             int64\n",
              "active           int64\n",
              "cardio           int64\n",
              "dtype: object"
            ]
          },
          "metadata": {
            "tags": []
          },
          "execution_count": 5
        }
      ]
    },
    {
      "cell_type": "markdown",
      "metadata": {
        "id": "aeEAqoGjj0Se"
      },
      "source": [
        "6. ¿Parecen ser el tipo correcto de datos? ¿O es un tipo de datos \"incorrecto\"?\r\n",
        "\r\n",
        "  Consideramos que los tipos de datos son correctos,sin embargo notamos que la \r\n",
        "  variable weight es considerada como float a pesar de contener puros números enteros, sin embargo esto no afectara el análisis pues son datos númericos."
      ]
    },
    {
      "cell_type": "markdown",
      "metadata": {
        "id": "6W0FKqt5j-gT"
      },
      "source": [
        "7. Si selecciono algunas filas al azar y las observo, ¿estoy obteniendo los datos que debería? ¿o hay datos que parecen estar \"sucios\" o \"incorrectos\"?\r\n",
        "\r\n",
        "  Al parecer los registros no presentan datos sucios, además no hay datos faltantes en nuestro data set"
      ]
    },
    {
      "cell_type": "code",
      "metadata": {
        "colab": {
          "base_uri": "https://localhost:8080/"
        },
        "id": "pJVjkqmN5gto",
        "outputId": "0cca3b3a-90ff-4249-e4ce-05bc060c1ec1"
      },
      "source": [
        "#Información general de los registros\r\n",
        "df.info()"
      ],
      "execution_count": 6,
      "outputs": [
        {
          "output_type": "stream",
          "text": [
            "<class 'pandas.core.frame.DataFrame'>\n",
            "RangeIndex: 70000 entries, 0 to 69999\n",
            "Data columns (total 13 columns):\n",
            " #   Column       Non-Null Count  Dtype  \n",
            "---  ------       --------------  -----  \n",
            " 0   id           70000 non-null  int64  \n",
            " 1   age          70000 non-null  int64  \n",
            " 2   gender       70000 non-null  int64  \n",
            " 3   height       70000 non-null  int64  \n",
            " 4   weight       70000 non-null  float64\n",
            " 5   ap_hi        70000 non-null  int64  \n",
            " 6   ap_lo        70000 non-null  int64  \n",
            " 7   cholesterol  70000 non-null  int64  \n",
            " 8   gluc         70000 non-null  int64  \n",
            " 9   smoke        70000 non-null  int64  \n",
            " 10  alco         70000 non-null  int64  \n",
            " 11  active       70000 non-null  int64  \n",
            " 12  cardio       70000 non-null  int64  \n",
            "dtypes: float64(1), int64(12)\n",
            "memory usage: 6.9 MB\n"
          ],
          "name": "stdout"
        }
      ]
    },
    {
      "cell_type": "code",
      "metadata": {
        "colab": {
          "base_uri": "https://localhost:8080/"
        },
        "id": "BAKv8IYTraU9",
        "outputId": "50405727-c5f3-4d02-d699-9f0fb5bbf0c2"
      },
      "source": [
        "df.isna().sum()"
      ],
      "execution_count": 7,
      "outputs": [
        {
          "output_type": "execute_result",
          "data": {
            "text/plain": [
              "id             0\n",
              "age            0\n",
              "gender         0\n",
              "height         0\n",
              "weight         0\n",
              "ap_hi          0\n",
              "ap_lo          0\n",
              "cholesterol    0\n",
              "gluc           0\n",
              "smoke          0\n",
              "alco           0\n",
              "active         0\n",
              "cardio         0\n",
              "dtype: int64"
            ]
          },
          "metadata": {
            "tags": []
          },
          "execution_count": 7
        }
      ]
    },
    {
      "cell_type": "code",
      "metadata": {
        "colab": {
          "base_uri": "https://localhost:8080/",
          "height": 347
        },
        "id": "bcX3R7TYqvHs",
        "outputId": "4c22bf37-3e5a-4006-a6c9-0aa6408676d6"
      },
      "source": [
        "#visualizaciones de nuestros datos.\r\n",
        "df.head(10)"
      ],
      "execution_count": 8,
      "outputs": [
        {
          "output_type": "execute_result",
          "data": {
            "text/html": [
              "<div>\n",
              "<style scoped>\n",
              "    .dataframe tbody tr th:only-of-type {\n",
              "        vertical-align: middle;\n",
              "    }\n",
              "\n",
              "    .dataframe tbody tr th {\n",
              "        vertical-align: top;\n",
              "    }\n",
              "\n",
              "    .dataframe thead th {\n",
              "        text-align: right;\n",
              "    }\n",
              "</style>\n",
              "<table border=\"1\" class=\"dataframe\">\n",
              "  <thead>\n",
              "    <tr style=\"text-align: right;\">\n",
              "      <th></th>\n",
              "      <th>id</th>\n",
              "      <th>age</th>\n",
              "      <th>gender</th>\n",
              "      <th>height</th>\n",
              "      <th>weight</th>\n",
              "      <th>ap_hi</th>\n",
              "      <th>ap_lo</th>\n",
              "      <th>cholesterol</th>\n",
              "      <th>gluc</th>\n",
              "      <th>smoke</th>\n",
              "      <th>alco</th>\n",
              "      <th>active</th>\n",
              "      <th>cardio</th>\n",
              "    </tr>\n",
              "  </thead>\n",
              "  <tbody>\n",
              "    <tr>\n",
              "      <th>0</th>\n",
              "      <td>0</td>\n",
              "      <td>18393</td>\n",
              "      <td>2</td>\n",
              "      <td>168</td>\n",
              "      <td>62.0</td>\n",
              "      <td>110</td>\n",
              "      <td>80</td>\n",
              "      <td>1</td>\n",
              "      <td>1</td>\n",
              "      <td>0</td>\n",
              "      <td>0</td>\n",
              "      <td>1</td>\n",
              "      <td>0</td>\n",
              "    </tr>\n",
              "    <tr>\n",
              "      <th>1</th>\n",
              "      <td>1</td>\n",
              "      <td>20228</td>\n",
              "      <td>1</td>\n",
              "      <td>156</td>\n",
              "      <td>85.0</td>\n",
              "      <td>140</td>\n",
              "      <td>90</td>\n",
              "      <td>3</td>\n",
              "      <td>1</td>\n",
              "      <td>0</td>\n",
              "      <td>0</td>\n",
              "      <td>1</td>\n",
              "      <td>1</td>\n",
              "    </tr>\n",
              "    <tr>\n",
              "      <th>2</th>\n",
              "      <td>2</td>\n",
              "      <td>18857</td>\n",
              "      <td>1</td>\n",
              "      <td>165</td>\n",
              "      <td>64.0</td>\n",
              "      <td>130</td>\n",
              "      <td>70</td>\n",
              "      <td>3</td>\n",
              "      <td>1</td>\n",
              "      <td>0</td>\n",
              "      <td>0</td>\n",
              "      <td>0</td>\n",
              "      <td>1</td>\n",
              "    </tr>\n",
              "    <tr>\n",
              "      <th>3</th>\n",
              "      <td>3</td>\n",
              "      <td>17623</td>\n",
              "      <td>2</td>\n",
              "      <td>169</td>\n",
              "      <td>82.0</td>\n",
              "      <td>150</td>\n",
              "      <td>100</td>\n",
              "      <td>1</td>\n",
              "      <td>1</td>\n",
              "      <td>0</td>\n",
              "      <td>0</td>\n",
              "      <td>1</td>\n",
              "      <td>1</td>\n",
              "    </tr>\n",
              "    <tr>\n",
              "      <th>4</th>\n",
              "      <td>4</td>\n",
              "      <td>17474</td>\n",
              "      <td>1</td>\n",
              "      <td>156</td>\n",
              "      <td>56.0</td>\n",
              "      <td>100</td>\n",
              "      <td>60</td>\n",
              "      <td>1</td>\n",
              "      <td>1</td>\n",
              "      <td>0</td>\n",
              "      <td>0</td>\n",
              "      <td>0</td>\n",
              "      <td>0</td>\n",
              "    </tr>\n",
              "    <tr>\n",
              "      <th>5</th>\n",
              "      <td>8</td>\n",
              "      <td>21914</td>\n",
              "      <td>1</td>\n",
              "      <td>151</td>\n",
              "      <td>67.0</td>\n",
              "      <td>120</td>\n",
              "      <td>80</td>\n",
              "      <td>2</td>\n",
              "      <td>2</td>\n",
              "      <td>0</td>\n",
              "      <td>0</td>\n",
              "      <td>0</td>\n",
              "      <td>0</td>\n",
              "    </tr>\n",
              "    <tr>\n",
              "      <th>6</th>\n",
              "      <td>9</td>\n",
              "      <td>22113</td>\n",
              "      <td>1</td>\n",
              "      <td>157</td>\n",
              "      <td>93.0</td>\n",
              "      <td>130</td>\n",
              "      <td>80</td>\n",
              "      <td>3</td>\n",
              "      <td>1</td>\n",
              "      <td>0</td>\n",
              "      <td>0</td>\n",
              "      <td>1</td>\n",
              "      <td>0</td>\n",
              "    </tr>\n",
              "    <tr>\n",
              "      <th>7</th>\n",
              "      <td>12</td>\n",
              "      <td>22584</td>\n",
              "      <td>2</td>\n",
              "      <td>178</td>\n",
              "      <td>95.0</td>\n",
              "      <td>130</td>\n",
              "      <td>90</td>\n",
              "      <td>3</td>\n",
              "      <td>3</td>\n",
              "      <td>0</td>\n",
              "      <td>0</td>\n",
              "      <td>1</td>\n",
              "      <td>1</td>\n",
              "    </tr>\n",
              "    <tr>\n",
              "      <th>8</th>\n",
              "      <td>13</td>\n",
              "      <td>17668</td>\n",
              "      <td>1</td>\n",
              "      <td>158</td>\n",
              "      <td>71.0</td>\n",
              "      <td>110</td>\n",
              "      <td>70</td>\n",
              "      <td>1</td>\n",
              "      <td>1</td>\n",
              "      <td>0</td>\n",
              "      <td>0</td>\n",
              "      <td>1</td>\n",
              "      <td>0</td>\n",
              "    </tr>\n",
              "    <tr>\n",
              "      <th>9</th>\n",
              "      <td>14</td>\n",
              "      <td>19834</td>\n",
              "      <td>1</td>\n",
              "      <td>164</td>\n",
              "      <td>68.0</td>\n",
              "      <td>110</td>\n",
              "      <td>60</td>\n",
              "      <td>1</td>\n",
              "      <td>1</td>\n",
              "      <td>0</td>\n",
              "      <td>0</td>\n",
              "      <td>0</td>\n",
              "      <td>0</td>\n",
              "    </tr>\n",
              "  </tbody>\n",
              "</table>\n",
              "</div>"
            ],
            "text/plain": [
              "   id    age  gender  height  weight  ...  gluc  smoke  alco  active  cardio\n",
              "0   0  18393       2     168    62.0  ...     1      0     0       1       0\n",
              "1   1  20228       1     156    85.0  ...     1      0     0       1       1\n",
              "2   2  18857       1     165    64.0  ...     1      0     0       0       1\n",
              "3   3  17623       2     169    82.0  ...     1      0     0       1       1\n",
              "4   4  17474       1     156    56.0  ...     1      0     0       0       0\n",
              "5   8  21914       1     151    67.0  ...     2      0     0       0       0\n",
              "6   9  22113       1     157    93.0  ...     1      0     0       1       0\n",
              "7  12  22584       2     178    95.0  ...     3      0     0       1       1\n",
              "8  13  17668       1     158    71.0  ...     1      0     0       1       0\n",
              "9  14  19834       1     164    68.0  ...     1      0     0       0       0\n",
              "\n",
              "[10 rows x 13 columns]"
            ]
          },
          "metadata": {
            "tags": []
          },
          "execution_count": 8
        }
      ]
    },
    {
      "cell_type": "code",
      "metadata": {
        "colab": {
          "base_uri": "https://localhost:8080/",
          "height": 347
        },
        "id": "McBV16pMq6T2",
        "outputId": "907918cd-405e-4c92-89f2-dff1fdd8d9ee"
      },
      "source": [
        "df.tail(10)"
      ],
      "execution_count": 9,
      "outputs": [
        {
          "output_type": "execute_result",
          "data": {
            "text/html": [
              "<div>\n",
              "<style scoped>\n",
              "    .dataframe tbody tr th:only-of-type {\n",
              "        vertical-align: middle;\n",
              "    }\n",
              "\n",
              "    .dataframe tbody tr th {\n",
              "        vertical-align: top;\n",
              "    }\n",
              "\n",
              "    .dataframe thead th {\n",
              "        text-align: right;\n",
              "    }\n",
              "</style>\n",
              "<table border=\"1\" class=\"dataframe\">\n",
              "  <thead>\n",
              "    <tr style=\"text-align: right;\">\n",
              "      <th></th>\n",
              "      <th>id</th>\n",
              "      <th>age</th>\n",
              "      <th>gender</th>\n",
              "      <th>height</th>\n",
              "      <th>weight</th>\n",
              "      <th>ap_hi</th>\n",
              "      <th>ap_lo</th>\n",
              "      <th>cholesterol</th>\n",
              "      <th>gluc</th>\n",
              "      <th>smoke</th>\n",
              "      <th>alco</th>\n",
              "      <th>active</th>\n",
              "      <th>cardio</th>\n",
              "    </tr>\n",
              "  </thead>\n",
              "  <tbody>\n",
              "    <tr>\n",
              "      <th>69990</th>\n",
              "      <td>99986</td>\n",
              "      <td>15094</td>\n",
              "      <td>1</td>\n",
              "      <td>168</td>\n",
              "      <td>72.0</td>\n",
              "      <td>110</td>\n",
              "      <td>70</td>\n",
              "      <td>1</td>\n",
              "      <td>1</td>\n",
              "      <td>0</td>\n",
              "      <td>0</td>\n",
              "      <td>1</td>\n",
              "      <td>1</td>\n",
              "    </tr>\n",
              "    <tr>\n",
              "      <th>69991</th>\n",
              "      <td>99988</td>\n",
              "      <td>20609</td>\n",
              "      <td>1</td>\n",
              "      <td>159</td>\n",
              "      <td>72.0</td>\n",
              "      <td>130</td>\n",
              "      <td>90</td>\n",
              "      <td>2</td>\n",
              "      <td>2</td>\n",
              "      <td>0</td>\n",
              "      <td>0</td>\n",
              "      <td>1</td>\n",
              "      <td>0</td>\n",
              "    </tr>\n",
              "    <tr>\n",
              "      <th>69992</th>\n",
              "      <td>99990</td>\n",
              "      <td>18792</td>\n",
              "      <td>1</td>\n",
              "      <td>161</td>\n",
              "      <td>56.0</td>\n",
              "      <td>170</td>\n",
              "      <td>90</td>\n",
              "      <td>1</td>\n",
              "      <td>1</td>\n",
              "      <td>0</td>\n",
              "      <td>0</td>\n",
              "      <td>1</td>\n",
              "      <td>1</td>\n",
              "    </tr>\n",
              "    <tr>\n",
              "      <th>69993</th>\n",
              "      <td>99991</td>\n",
              "      <td>19699</td>\n",
              "      <td>1</td>\n",
              "      <td>172</td>\n",
              "      <td>70.0</td>\n",
              "      <td>130</td>\n",
              "      <td>90</td>\n",
              "      <td>1</td>\n",
              "      <td>1</td>\n",
              "      <td>0</td>\n",
              "      <td>0</td>\n",
              "      <td>1</td>\n",
              "      <td>1</td>\n",
              "    </tr>\n",
              "    <tr>\n",
              "      <th>69994</th>\n",
              "      <td>99992</td>\n",
              "      <td>21074</td>\n",
              "      <td>1</td>\n",
              "      <td>165</td>\n",
              "      <td>80.0</td>\n",
              "      <td>150</td>\n",
              "      <td>80</td>\n",
              "      <td>1</td>\n",
              "      <td>1</td>\n",
              "      <td>0</td>\n",
              "      <td>0</td>\n",
              "      <td>1</td>\n",
              "      <td>1</td>\n",
              "    </tr>\n",
              "    <tr>\n",
              "      <th>69995</th>\n",
              "      <td>99993</td>\n",
              "      <td>19240</td>\n",
              "      <td>2</td>\n",
              "      <td>168</td>\n",
              "      <td>76.0</td>\n",
              "      <td>120</td>\n",
              "      <td>80</td>\n",
              "      <td>1</td>\n",
              "      <td>1</td>\n",
              "      <td>1</td>\n",
              "      <td>0</td>\n",
              "      <td>1</td>\n",
              "      <td>0</td>\n",
              "    </tr>\n",
              "    <tr>\n",
              "      <th>69996</th>\n",
              "      <td>99995</td>\n",
              "      <td>22601</td>\n",
              "      <td>1</td>\n",
              "      <td>158</td>\n",
              "      <td>126.0</td>\n",
              "      <td>140</td>\n",
              "      <td>90</td>\n",
              "      <td>2</td>\n",
              "      <td>2</td>\n",
              "      <td>0</td>\n",
              "      <td>0</td>\n",
              "      <td>1</td>\n",
              "      <td>1</td>\n",
              "    </tr>\n",
              "    <tr>\n",
              "      <th>69997</th>\n",
              "      <td>99996</td>\n",
              "      <td>19066</td>\n",
              "      <td>2</td>\n",
              "      <td>183</td>\n",
              "      <td>105.0</td>\n",
              "      <td>180</td>\n",
              "      <td>90</td>\n",
              "      <td>3</td>\n",
              "      <td>1</td>\n",
              "      <td>0</td>\n",
              "      <td>1</td>\n",
              "      <td>0</td>\n",
              "      <td>1</td>\n",
              "    </tr>\n",
              "    <tr>\n",
              "      <th>69998</th>\n",
              "      <td>99998</td>\n",
              "      <td>22431</td>\n",
              "      <td>1</td>\n",
              "      <td>163</td>\n",
              "      <td>72.0</td>\n",
              "      <td>135</td>\n",
              "      <td>80</td>\n",
              "      <td>1</td>\n",
              "      <td>2</td>\n",
              "      <td>0</td>\n",
              "      <td>0</td>\n",
              "      <td>0</td>\n",
              "      <td>1</td>\n",
              "    </tr>\n",
              "    <tr>\n",
              "      <th>69999</th>\n",
              "      <td>99999</td>\n",
              "      <td>20540</td>\n",
              "      <td>1</td>\n",
              "      <td>170</td>\n",
              "      <td>72.0</td>\n",
              "      <td>120</td>\n",
              "      <td>80</td>\n",
              "      <td>2</td>\n",
              "      <td>1</td>\n",
              "      <td>0</td>\n",
              "      <td>0</td>\n",
              "      <td>1</td>\n",
              "      <td>0</td>\n",
              "    </tr>\n",
              "  </tbody>\n",
              "</table>\n",
              "</div>"
            ],
            "text/plain": [
              "          id    age  gender  height  weight  ...  gluc  smoke  alco  active  cardio\n",
              "69990  99986  15094       1     168    72.0  ...     1      0     0       1       1\n",
              "69991  99988  20609       1     159    72.0  ...     2      0     0       1       0\n",
              "69992  99990  18792       1     161    56.0  ...     1      0     0       1       1\n",
              "69993  99991  19699       1     172    70.0  ...     1      0     0       1       1\n",
              "69994  99992  21074       1     165    80.0  ...     1      0     0       1       1\n",
              "69995  99993  19240       2     168    76.0  ...     1      1     0       1       0\n",
              "69996  99995  22601       1     158   126.0  ...     2      0     0       1       1\n",
              "69997  99996  19066       2     183   105.0  ...     1      0     1       0       1\n",
              "69998  99998  22431       1     163    72.0  ...     2      0     0       0       1\n",
              "69999  99999  20540       1     170    72.0  ...     1      0     0       1       0\n",
              "\n",
              "[10 rows x 13 columns]"
            ]
          },
          "metadata": {
            "tags": []
          },
          "execution_count": 9
        }
      ]
    },
    {
      "cell_type": "markdown",
      "metadata": {
        "id": "8Qc4JC3aKl-Y"
      },
      "source": [
        "## POSTWORK 5\r\n",
        "### Limpieza de la base."
      ]
    },
    {
      "cell_type": "code",
      "metadata": {
        "id": "9ZqNTftcL85i"
      },
      "source": [
        "#eliminamos la columna id pues no es de utilidad\r\n",
        "df=df.drop(columns='id')\r\n",
        "\r\n",
        "#convertimos edad a años para mejor manejo del dato\r\n",
        "df['age']=df['age']/365\r\n",
        "\r\n",
        "#redondeamos la edad a años cumplidos\r\n",
        "import math\r\n",
        "df['age']=list(map(math.floor,df['age']))"
      ],
      "execution_count": 10,
      "outputs": []
    },
    {
      "cell_type": "code",
      "metadata": {
        "id": "fwCx4JxSznwu"
      },
      "source": [
        "\r\n",
        "\r\n",
        "#renombramos las columnas para identificarlas de mejor manera\r\n",
        "nombres={\r\n",
        "    'age':'edad',\r\n",
        "    'gender':'sexo',\r\n",
        "    'height':'altura',\r\n",
        "    'weight':'peso',\r\n",
        "    'ap_hi':'presion_sistolica',\r\n",
        "    'ap_lo':'presion_diastolica',\r\n",
        "    'cholesterol':'colesterol',\r\n",
        "    'gluc':'glucosa',\r\n",
        "    'smoke':'fumador',\r\n",
        "    'alco':'alcoholico',\r\n",
        "    'active':'actividad_fisica',\r\n",
        "    'cardio':'enfermedad_cardiaca'}\r\n",
        "#dataframe limpio \r\n",
        "datos_adultos=df.rename(columns=nombres)\r\n"
      ],
      "execution_count": 11,
      "outputs": []
    },
    {
      "cell_type": "code",
      "metadata": {
        "colab": {
          "base_uri": "https://localhost:8080/"
        },
        "id": "gbE1KSB9ASGC",
        "outputId": "1d301634-98e1-415a-b7e3-b4ecebf89bd5"
      },
      "source": [
        "#Hacemos uso de agregaciones para obtener información general de nuestra población \r\n",
        "prom_edad=round(datos_adultos['edad'].mean(),2)\r\n",
        "prom_altura=round(datos_adultos['altura'].mean(),2)\r\n",
        "prom_peso=round(datos_adultos['peso'].mean(),2)\r\n",
        "prom_sistolica=round(datos_adultos['presion_sistolica'].mean(),2)\r\n",
        "prom_diastolica=round(datos_adultos['presion_diastolica'].mean(),2)\r\n",
        "\r\n",
        "print(f'INFORMACIÓN GENERAL DE LA POBLACIÓN \\n')\r\n",
        "print(f'{(\"Variables\"):20} | {(\"Promedios\"):2}')\r\n",
        "print(f'--------------------------------')\r\n",
        "print( f'{(\"Edades\"):20} | {prom_edad:2}')\r\n",
        "print( f'{(\"Alturas\"):20} | {prom_altura:2}')\r\n",
        "print( f'{(\"Peso\"):20} | {prom_peso:2}')\r\n",
        "print( f'{(\"Presion sistolica\"):20} | {prom_sistolica:2}')\r\n",
        "print( f'{(\"Presion diastolica\"):20} | {prom_diastolica:2}')\r\n",
        "\r\n",
        "\r\n"
      ],
      "execution_count": 12,
      "outputs": [
        {
          "output_type": "stream",
          "text": [
            "INFORMACIÓN GENERAL DE LA POBLACIÓN \n",
            "\n",
            "Variables            | Promedios\n",
            "--------------------------------\n",
            "Edades               | 52.84\n",
            "Alturas              | 164.36\n",
            "Peso                 | 74.21\n",
            "Presion sistolica    | 128.82\n",
            "Presion diastolica   | 96.63\n"
          ],
          "name": "stdout"
        }
      ]
    },
    {
      "cell_type": "markdown",
      "metadata": {
        "id": "RTXIHsRYn089"
      },
      "source": [
        "#POSTWORK 6\r\n",
        "\r\n",
        "##<center>SUMANDO UNA API CON DATOS DE UNA POBLACIÓN INFANTIL\r\n",
        "<div align=\"justify\">\r\n",
        "\r\n",
        "Optamos por la búsqueda de una base complementaria a la que ya teníamos. En este caso encontramos esta API que nos brinda información acerca de datos clínicos de nuestro interés de una población infantil.\r\n",
        "Es importante tomar en cuenta a dicha población puesto que las ECV como vemos, no solo afectan a los adultos, sino también a los niños siendo que México ocupa el **primer lugar en obesidad infantil**, y la obesidad es uno de los riesgos más relacionados al desarrollo de ECV.\r\n",
        "\r\n",
        "Este análisis complementario nos permitirá realizar un análisis más completo, aplicable a toda la población afectada."
      ]
    },
    {
      "cell_type": "code",
      "metadata": {
        "colab": {
          "base_uri": "https://localhost:8080/"
        },
        "id": "Gthpn4699gGg",
        "outputId": "32e3153b-c60d-4cf9-cafa-bf6f1119faff"
      },
      "source": [
        "# Realizamos la carga de los datos de la API que complementaran nuestros análisis.\r\n",
        "endpoint='http://data.ny.gov/resource/8itk-gcdy.json?$limit=175000&'\r\n",
        "#Esta API no necesita de una api_key por lo que basta con el endpoint\r\n",
        "r=requests.get(endpoint)\r\n",
        "#Revisamos el estatus de la conexión con la API\r\n",
        "r.status_code"
      ],
      "execution_count": 13,
      "outputs": [
        {
          "output_type": "execute_result",
          "data": {
            "text/plain": [
              "200"
            ]
          },
          "metadata": {
            "tags": []
          },
          "execution_count": 13
        }
      ]
    },
    {
      "cell_type": "code",
      "metadata": {
        "id": "oVXUhprjBF9i"
      },
      "source": [
        "#Una vez realizada con éxito la conexión obtenemos la consulta en formato Json\r\n",
        "response=r.json()\r\n",
        "# Para un mejor manejo de los datos se guardan en un Dataframe\r\n",
        "datos=pd.DataFrame(response)"
      ],
      "execution_count": 14,
      "outputs": []
    },
    {
      "cell_type": "code",
      "metadata": {
        "colab": {
          "base_uri": "https://localhost:8080/"
        },
        "id": "SLbW_pms2opF",
        "outputId": "aca07728-ac9f-46d0-f1f8-a9e1f5986ee1"
      },
      "source": [
        "#Visualizamos todas las columnas de nuestro dataframe\r\n",
        "datos.columns"
      ],
      "execution_count": 15,
      "outputs": [
        {
          "output_type": "execute_result",
          "data": {
            "text/plain": [
              "Index(['survey_year', 'program_category', 'region_served', 'age_group', 'sex',\n",
              "       'transgender', 'sexual_orientation', 'hispanic_ethnicity', 'race',\n",
              "       'living_situation', 'household_composition', 'preferred_language',\n",
              "       'veteran_status', 'employment_status', 'number_of_hours_worked_each',\n",
              "       'education_status', 'special_education_services', 'mental_illness',\n",
              "       'intellectual_disability', 'autism_spectrum',\n",
              "       'other_developmental_disability', 'alcohol_related_disorder',\n",
              "       'drug_substance_disorder', 'mobility_impairment_disorder',\n",
              "       'hearing_visual_impairment', 'hyperlipidemia', 'high_blood_pressure',\n",
              "       'diabetes', 'obesity', 'heart_attack', 'stroke', 'other_cardiac',\n",
              "       'pulmonary_asthma', 'alzheimer_or_dementia', 'kidney_disease',\n",
              "       'liver_disease', 'endocrine_condition', 'neurological_condition',\n",
              "       'traumatic_brain_injury', 'joint_disease', 'cancer',\n",
              "       'other_chronic_med_condition', 'no_chronic_med_condition',\n",
              "       'unknown_chronic_med_condition', 'smokes',\n",
              "       'received_smoking_medication', 'received_smoking_counseling',\n",
              "       'serious_mental_illness', 'principal_diagnosis_class',\n",
              "       'additional_diagnosis_class', 'ssi_cash_assistance',\n",
              "       'ssdi_cash_assistance', 'veterans_disability_benefits',\n",
              "       'veterans_cash_assistance', 'public_assistance_cash_program',\n",
              "       'other_cash_benefits', 'medicaid_and_medicare',\n",
              "       'unknown_insurance_coverage', 'no_insurance', 'medicaid_insurance',\n",
              "       'medicaid_managed_insurance', 'medicare_insurance', 'private_insurance',\n",
              "       'child_health_plus_insurance', 'other_insurance',\n",
              "       'criminal_justice_status', 'three_digit_residence_zip'],\n",
              "      dtype='object')"
            ]
          },
          "metadata": {
            "tags": []
          },
          "execution_count": 15
        }
      ]
    },
    {
      "cell_type": "code",
      "metadata": {
        "id": "c9DjKMUeOZSe"
      },
      "source": [
        "#Conservamos solo las columnas utiles para el análisis\r\n",
        "datos=datos[[ 'age_group', 'sex','alcohol_related_disorder','hyperlipidemia', 'high_blood_pressure','diabetes', 'obesity', 'heart_attack', 'stroke', 'other_cardiac','smokes']]"
      ],
      "execution_count": 16,
      "outputs": []
    },
    {
      "cell_type": "markdown",
      "metadata": {
        "id": "mxJKY4sS3GV_"
      },
      "source": [
        "### Limpieza de la base de datos obtenida de la API"
      ]
    },
    {
      "cell_type": "code",
      "metadata": {
        "colab": {
          "base_uri": "https://localhost:8080/"
        },
        "id": "mGVZFoDkWcHz",
        "outputId": "8a31b33b-7413-4339-ff3f-96618673f835"
      },
      "source": [
        "# Veamos si tenemos valores nulos\r\n",
        "datos.isna().sum()"
      ],
      "execution_count": 17,
      "outputs": [
        {
          "output_type": "execute_result",
          "data": {
            "text/plain": [
              "age_group                   0\n",
              "sex                         0\n",
              "alcohol_related_disorder    0\n",
              "hyperlipidemia              0\n",
              "high_blood_pressure         0\n",
              "diabetes                    0\n",
              "obesity                     0\n",
              "heart_attack                0\n",
              "stroke                      0\n",
              "other_cardiac               0\n",
              "smokes                      0\n",
              "dtype: int64"
            ]
          },
          "metadata": {
            "tags": []
          },
          "execution_count": 17
        }
      ]
    },
    {
      "cell_type": "code",
      "metadata": {
        "colab": {
          "base_uri": "https://localhost:8080/"
        },
        "id": "lI1aMNF0Z8lN",
        "outputId": "c5fb842b-cb64-4db1-8185-71a1d6624645"
      },
      "source": [
        "#No hay datos nulos pero si desconocidos que necesitan ser eliminados del dataframe \r\n",
        "columnas=datos.columns\r\n",
        "for columna in columnas:\r\n",
        "  print((datos[columna]=='UNKNOWN').sum())"
      ],
      "execution_count": 18,
      "outputs": [
        {
          "output_type": "stream",
          "text": [
            "33\n",
            "194\n",
            "7420\n",
            "21253\n",
            "21253\n",
            "21253\n",
            "21253\n",
            "21253\n",
            "21253\n",
            "21253\n",
            "8413\n"
          ],
          "name": "stdout"
        }
      ]
    },
    {
      "cell_type": "code",
      "metadata": {
        "id": "HcWl81MMamfW"
      },
      "source": [
        "# Se crea una función para convertir los datos desconocidos a nulos para manejarlos de manera mas sencilla\r\n",
        "def repl(x):\r\n",
        "  if x=='UNKNOWN':\r\n",
        "    return np.nan\r\n",
        "  else:\r\n",
        "    return x\r\n",
        "\r\n",
        "#aplicamos la función anterior a todas las columnas del dataframe\r\n",
        "for columna in columnas:\r\n",
        "  datos[columna]=datos[columna].apply(repl)"
      ],
      "execution_count": 19,
      "outputs": []
    },
    {
      "cell_type": "code",
      "metadata": {
        "colab": {
          "base_uri": "https://localhost:8080/"
        },
        "id": "hjv2j55jdO5O",
        "outputId": "2769a037-9726-4895-c036-cf9076b51bdb"
      },
      "source": [
        "# De nuevo revisamos cuantos datos nulos tenemos.\r\n",
        "datos.isna().sum()"
      ],
      "execution_count": 20,
      "outputs": [
        {
          "output_type": "execute_result",
          "data": {
            "text/plain": [
              "age_group                      33\n",
              "sex                           194\n",
              "alcohol_related_disorder     7420\n",
              "hyperlipidemia              21253\n",
              "high_blood_pressure         21253\n",
              "diabetes                    21253\n",
              "obesity                     21253\n",
              "heart_attack                21253\n",
              "stroke                      21253\n",
              "other_cardiac               21253\n",
              "smokes                       8413\n",
              "dtype: int64"
            ]
          },
          "metadata": {
            "tags": []
          },
          "execution_count": 20
        }
      ]
    },
    {
      "cell_type": "code",
      "metadata": {
        "id": "WNGjrKhXeGaZ"
      },
      "source": [
        "# Eliminamos los registros con al menos un dato nulo ya que no podemos sustituirlos por algun otro\r\n",
        "datos=datos.dropna(axis=0, how='any')"
      ],
      "execution_count": 21,
      "outputs": []
    },
    {
      "cell_type": "markdown",
      "metadata": {
        "id": "NKN50QclLLWL"
      },
      "source": [
        "## POSTWORK 7\r\n",
        "\r\n",
        "Transformación, filtración y ordenamiento de los datos."
      ]
    },
    {
      "cell_type": "code",
      "metadata": {
        "id": "Z2NEo1HyFc2R"
      },
      "source": [
        "#Hacemos la conversión a entero de la columna peso.\r\n",
        "datos_adultos['peso']=datos_adultos['peso'].astype(int)\r\n",
        "\r\n",
        "#Agregamos la columna donde calculamos el índice de masa corporal\r\n",
        "datos_adultos['imc']=round(datos_adultos['peso']/((datos_adultos['altura']/100)**2),2)"
      ],
      "execution_count": 22,
      "outputs": []
    },
    {
      "cell_type": "code",
      "metadata": {
        "id": "y5stSF-Y08CW"
      },
      "source": [
        "#Creamos nuevos dataset de personas con y sin enfermedad cardiovascular\r\n",
        "adultos_enfermos=datos_adultos[datos_adultos['enfermedad_cardiaca']==1]\r\n",
        "adultos_sanos=datos_adultos[datos_adultos['enfermedad_cardiaca']==0]\r\n",
        "\r\n",
        "#eliminamos la columna enfermedad_cardiovascular pues ya estan separados\r\n",
        "adultos_enfermos=adultos_enfermos.drop(columns='enfermedad_cardiaca')\r\n",
        "adultos_sanos=adultos_sanos.drop(columns='enfermedad_cardiaca')"
      ],
      "execution_count": 23,
      "outputs": []
    },
    {
      "cell_type": "code",
      "metadata": {
        "id": "pzUe_8EfimPv"
      },
      "source": [
        "#De estos nuevos datos mantenemos los de los infantes para el análisis\r\n",
        "datos_infantes=datos[datos['age_group']=='CHILD']\r\n",
        "\r\n",
        "# Borramos la columna de grupos de edad pues ya no es necesaria\r\n",
        "del datos_infantes['age_group']\r\n",
        "\r\n",
        "#Renombramos las columnas \r\n",
        "nombres={\r\n",
        "     'sex':'sexo', 'alcohol_related_disorder':'alcoholismo', 'hyperlipidemia':'hiperlipidemia',\r\n",
        "       'high_blood_pressure':'presion_alta', 'obesity':'obesidad', 'heart_attack':'ataque_cardiaco', 'stroke':'derrame_cerebrovascular',\r\n",
        "       'other_cardiac':'otra_enfermedad_cardiaca', 'smokes':'tabaquismo'\r\n",
        "}\r\n",
        "datos_infantes=datos_infantes.rename(columns=nombres)"
      ],
      "execution_count": 24,
      "outputs": []
    },
    {
      "cell_type": "code",
      "metadata": {
        "id": "40q_GdTZV1s-"
      },
      "source": [
        "#Cambiamos el tipo de dato del campo sexo (de string a int), para mantener la homogeneidad entre las bases\n",
        "# 1: NIÑA    2: NIÑO\n",
        "str_a_int = {\n",
        "    'FEMALE' : int(1),\n",
        "    'MALE': int(2),\n",
        "}\n",
        "\n",
        "datos_infantes['sexo'] = datos_infantes['sexo'].map(str_a_int)\n"
      ],
      "execution_count": 25,
      "outputs": []
    },
    {
      "cell_type": "markdown",
      "metadata": {
        "id": "qIEBjFRhVgtv"
      },
      "source": [
        "### AGRUPAMIENTOS PARA COMENZAR A RESPONDER ALGUNAS DE LAS PREGUNTAS PLANTEADAS"
      ]
    },
    {
      "cell_type": "code",
      "metadata": {
        "colab": {
          "base_uri": "https://localhost:8080/"
        },
        "id": "NKISiTmaSMnj",
        "outputId": "0d399e38-d1d4-4170-eee9-90dba1577979"
      },
      "source": [
        "#¿Qué % de hombres y mujeres hay?\n",
        "# 1: MUJER   2: HOMBRE\n",
        "AT=len(datos_adultos)\n",
        "print(round((datos_adultos['sexo'].value_counts())/ AT * 100,2))"
      ],
      "execution_count": 26,
      "outputs": [
        {
          "output_type": "stream",
          "text": [
            "1    65.04\n",
            "2    34.96\n",
            "Name: sexo, dtype: float64\n"
          ],
          "name": "stdout"
        }
      ]
    },
    {
      "cell_type": "code",
      "metadata": {
        "colab": {
          "base_uri": "https://localhost:8080/"
        },
        "id": "ArOBmO05PZwp",
        "outputId": "42ee9f0a-1c0b-4cac-8732-fc489cd4a53e"
      },
      "source": [
        "#¿Cuántos adultos enfermos hay por sexo?\r\n",
        "#1: MUJER  2:HOMBRE\r\n",
        "enf=adultos_enfermos.groupby('sexo').size()\r\n",
        "AET=len(adultos_enfermos)\r\n",
        "print(enf)\r\n",
        "print()\r\n",
        "#¿Qué % representa?\r\n",
        "print(f'{round(enf/ AET*100,2)}')"
      ],
      "execution_count": 27,
      "outputs": [
        {
          "output_type": "stream",
          "text": [
            "sexo\n",
            "1    22616\n",
            "2    12363\n",
            "dtype: int64\n",
            "\n",
            "sexo\n",
            "1    64.66\n",
            "2    35.34\n",
            "dtype: float64\n"
          ],
          "name": "stdout"
        }
      ]
    },
    {
      "cell_type": "code",
      "metadata": {
        "colab": {
          "base_uri": "https://localhost:8080/"
        },
        "id": "XrC60nDwRv_Y",
        "outputId": "a1fffb25-d931-4212-e0ad-5d746bac29db"
      },
      "source": [
        "#¿Cuántos adultos sanos hay por sexo?\n",
        "# 1: MUJER   2: HOMBRE\n",
        "AST=len(adultos_sanos)\n",
        "san=adultos_sanos.groupby('sexo').size()\n",
        "print(san)\n",
        "print()\n",
        "#¿Qué % representa?\n",
        "print(f'{round(san/ AST*100,2)}')"
      ],
      "execution_count": 28,
      "outputs": [
        {
          "output_type": "stream",
          "text": [
            "sexo\n",
            "1    22914\n",
            "2    12107\n",
            "dtype: int64\n",
            "\n",
            "sexo\n",
            "1    65.43\n",
            "2    34.57\n",
            "dtype: float64\n"
          ],
          "name": "stdout"
        }
      ]
    },
    {
      "cell_type": "code",
      "metadata": {
        "colab": {
          "base_uri": "https://localhost:8080/"
        },
        "id": "FMd1L1PKSHFP",
        "outputId": "9b691336-b691-482d-bfd5-00a0616cdd58"
      },
      "source": [
        "#¿Cuántos adultos sufren de niveles de colesterol alto?\n",
        "adul_col_al=(adultos_enfermos[adultos_enfermos['colesterol'] == 3]['colesterol']).count()\n",
        "print(adul_col_al)\n",
        "\n",
        "#¿Qué % representa?\n",
        "print(f'{adul_col_al / AT*100} %')"
      ],
      "execution_count": 29,
      "outputs": [
        {
          "output_type": "stream",
          "text": [
            "6174\n",
            "8.82 %\n"
          ],
          "name": "stdout"
        }
      ]
    },
    {
      "cell_type": "code",
      "metadata": {
        "colab": {
          "base_uri": "https://localhost:8080/"
        },
        "id": "hv5FV-OjaIBv",
        "outputId": "1c754121-3de9-4763-ba1e-1039ec716643"
      },
      "source": [
        "#¿Cuántos adultos sufren de niveles de glucosa alta?\n",
        "adul_glu_al=(adultos_enfermos['glucosa']== 3).sum()\n",
        "print(adul_glu_al)\n",
        "#¿Qué % representa?\n",
        "print(f'{round(adul_glu_al / AT*100,2)} %')"
      ],
      "execution_count": 30,
      "outputs": [
        {
          "output_type": "stream",
          "text": [
            "3316\n",
            "4.74 %\n"
          ],
          "name": "stdout"
        }
      ]
    },
    {
      "cell_type": "code",
      "metadata": {
        "colab": {
          "base_uri": "https://localhost:8080/"
        },
        "id": "NoOZmDsLaktm",
        "outputId": "9fd85596-11ef-4530-ae52-105e96583108"
      },
      "source": [
        "#¿Cuántos adultos fuman en total?\n",
        "adul_fum=(datos_adultos['fumador'] == 1).sum()\n",
        "print(adul_fum)\n",
        "#¿Qué % representa?\n",
        "print(f'{round(adul_fum / AT*100)} %')"
      ],
      "execution_count": 31,
      "outputs": [
        {
          "output_type": "stream",
          "text": [
            "6169\n",
            "9 %\n"
          ],
          "name": "stdout"
        }
      ]
    },
    {
      "cell_type": "code",
      "metadata": {
        "colab": {
          "base_uri": "https://localhost:8080/"
        },
        "id": "lk72z_Hif3XP",
        "outputId": "1d5df970-07b4-4a5c-c62f-6d55da17dec9"
      },
      "source": [
        "#¿Cuántas mujeres y cuántos hombres fuman?\n",
        "# 1: MUJER   2: HOMBRE\n",
        "# 0: NO FUMA  1: SI FUMA\n",
        "datos_adultos.groupby('sexo')['fumador'].value_counts()"
      ],
      "execution_count": 32,
      "outputs": [
        {
          "output_type": "execute_result",
          "data": {
            "text/plain": [
              "sexo  fumador\n",
              "1     0          44717\n",
              "      1            813\n",
              "2     0          19114\n",
              "      1           5356\n",
              "Name: fumador, dtype: int64"
            ]
          },
          "metadata": {
            "tags": []
          },
          "execution_count": 32
        }
      ]
    },
    {
      "cell_type": "code",
      "metadata": {
        "colab": {
          "base_uri": "https://localhost:8080/"
        },
        "id": "s5GGe-O8cliT",
        "outputId": "0e1d8657-405a-48d5-d651-760e04e9a530"
      },
      "source": [
        "#¿Cuántas personas alcohólicas hay?\n",
        "adul_alc=(datos_adultos['alcoholico'] == 1).sum()\n",
        "print(adul_alc)\n",
        "#¿Qué % representa?\n",
        "print(f'{round(adul_alc / AT*100,2)} %')"
      ],
      "execution_count": 33,
      "outputs": [
        {
          "output_type": "stream",
          "text": [
            "3764\n",
            "5.38 %\n"
          ],
          "name": "stdout"
        }
      ]
    },
    {
      "cell_type": "code",
      "metadata": {
        "colab": {
          "base_uri": "https://localhost:8080/"
        },
        "id": "az42DDTqgEX9",
        "outputId": "200ec7c8-ae5c-4f87-b3fc-dc8ddcce0329"
      },
      "source": [
        "#¿Cuántas personas alcohólicas hay por sexo?\n",
        "# 1: MUJER   2: HOMBRE\n",
        "# 0: NO TOMA    1: SI TOMA\n",
        "datos_adultos.groupby('sexo')['alcoholico'].value_counts()"
      ],
      "execution_count": 34,
      "outputs": [
        {
          "output_type": "execute_result",
          "data": {
            "text/plain": [
              "sexo  alcoholico\n",
              "1     0             44369\n",
              "      1              1161\n",
              "2     0             21867\n",
              "      1              2603\n",
              "Name: alcoholico, dtype: int64"
            ]
          },
          "metadata": {
            "tags": []
          },
          "execution_count": 34
        }
      ]
    },
    {
      "cell_type": "code",
      "metadata": {
        "colab": {
          "base_uri": "https://localhost:8080/"
        },
        "id": "IvCMtueJc2zo",
        "outputId": "a97169f7-f399-44ad-ba7d-53900d411230"
      },
      "source": [
        "#¿Cuántas personas realizan actividad física?\n",
        "adul_actf=(datos_adultos['actividad_fisica'] == 1).sum()\n",
        "print(adul_actf)\n",
        "#¿Qué % representa?\n",
        "print(f'{round(adul_actf / AT*100,2)} %')"
      ],
      "execution_count": 35,
      "outputs": [
        {
          "output_type": "stream",
          "text": [
            "56261\n",
            "80.37 %\n"
          ],
          "name": "stdout"
        }
      ]
    },
    {
      "cell_type": "markdown",
      "metadata": {
        "id": "yvfa2KwbdzLI"
      },
      "source": [
        "###<center>AGRUPAMIENTOS DE LA API: POBLACIÓN INFANTIL\n",
        "<div align=\"justify\">\n",
        "Realizamos agrupamientos para poder contestar preguntas similares a las hechas en la población adulta.\n",
        "Esto para tener una idea general de cómo se encuentra esta población, y ver cómo se encuentran afectados por los factores de riesgo asociados al desarrollo de ECV."
      ]
    },
    {
      "cell_type": "code",
      "metadata": {
        "colab": {
          "base_uri": "https://localhost:8080/"
        },
        "id": "xgcUaqPUdimV",
        "outputId": "0b3c1842-a564-459f-e121-a0e9282b2bcc"
      },
      "source": [
        "#¿Qué % de niños hay?\n",
        "# 1: NIÑA    2: NIÑO\n",
        "NT = len(datos_infantes)\n",
        "print(round((datos_infantes['sexo'].value_counts())/ NT * 100,2))"
      ],
      "execution_count": 36,
      "outputs": [
        {
          "output_type": "stream",
          "text": [
            "2    53.37\n",
            "1    46.63\n",
            "Name: sexo, dtype: float64\n"
          ],
          "name": "stdout"
        }
      ]
    },
    {
      "cell_type": "code",
      "metadata": {
        "colab": {
          "base_uri": "https://localhost:8080/"
        },
        "id": "o1wAr8vVd84t",
        "outputId": "9733ba5f-d655-402c-912f-a1308d8e1dc7"
      },
      "source": [
        "#¿Cuántos infantes son alcohólicos?\n",
        "niños_alc = (datos_infantes['alcoholismo'] == 'YES').sum()\n",
        "print(niños_alc)\n",
        "#¿Qué % representa?\n",
        "print(f'{round(niños_alc / NT*100,2)} %')"
      ],
      "execution_count": 37,
      "outputs": [
        {
          "output_type": "stream",
          "text": [
            "170\n",
            "0.58 %\n"
          ],
          "name": "stdout"
        }
      ]
    },
    {
      "cell_type": "code",
      "metadata": {
        "colab": {
          "base_uri": "https://localhost:8080/"
        },
        "id": "_iiTjFB9fkgm",
        "outputId": "14948ea5-7fe9-4077-ff31-09b2ea80ff35"
      },
      "source": [
        "#¿Cuántos niños presentan obesidad?\n",
        "niños_obesos = (datos_infantes['obesidad'] == 'YES').sum()\n",
        "print(niños_obesos)\n",
        "#¿Qué % representa?\n",
        "print(f'{round(niños_obesos / NT*100,2)} %')"
      ],
      "execution_count": 38,
      "outputs": [
        {
          "output_type": "stream",
          "text": [
            "1580\n",
            "5.41 %\n"
          ],
          "name": "stdout"
        }
      ]
    },
    {
      "cell_type": "code",
      "metadata": {
        "colab": {
          "base_uri": "https://localhost:8080/"
        },
        "id": "XXo8SJG0hCTS",
        "outputId": "79371272-7299-4c8a-99f5-860931e91a94"
      },
      "source": [
        "#¿Cuántos niños son fumadores?\n",
        "niños_f =(datos_infantes['tabaquismo'] == 'YES').sum()\n",
        "print(niños_f)\n",
        "#¿Qué % representa?\n",
        "print(f'{round(niños_f / NT*100,2)} %')"
      ],
      "execution_count": 39,
      "outputs": [
        {
          "output_type": "stream",
          "text": [
            "589\n",
            "2.02 %\n"
          ],
          "name": "stdout"
        }
      ]
    },
    {
      "cell_type": "code",
      "metadata": {
        "colab": {
          "base_uri": "https://localhost:8080/"
        },
        "id": "kJKyTgIXhPR0",
        "outputId": "34b23658-a301-48f2-9b97-0430dbf554ee"
      },
      "source": [
        "#¿Cuántos prsentan hiperlipidemia? (grasa en la sangre)\n",
        "niños_hiper =(datos_infantes['hiperlipidemia'] == 'YES').sum()\n",
        "print(niños_hiper)\n",
        "#¿Qué % representa?\n",
        "print(f'{round(niños_hiper / NT*100,2)} %')"
      ],
      "execution_count": 40,
      "outputs": [
        {
          "output_type": "stream",
          "text": [
            "259\n",
            "0.89 %\n"
          ],
          "name": "stdout"
        }
      ]
    },
    {
      "cell_type": "code",
      "metadata": {
        "colab": {
          "base_uri": "https://localhost:8080/"
        },
        "id": "lJ0e1pn8iwcW",
        "outputId": "3c48f8a5-4b66-4956-98aa-c8ed1a30bcda"
      },
      "source": [
        "#¿Cuántos niños presentan presión alta?\n",
        "niños_pres =(datos_infantes['presion_alta'] == 'YES').sum()\n",
        "print(niños_pres)\n",
        "#¿Qué % representa?\n",
        "print(f'{round(niños_pres / NT*100,2)} %')"
      ],
      "execution_count": 41,
      "outputs": [
        {
          "output_type": "stream",
          "text": [
            "119\n",
            "0.41 %\n"
          ],
          "name": "stdout"
        }
      ]
    },
    {
      "cell_type": "code",
      "metadata": {
        "colab": {
          "base_uri": "https://localhost:8080/"
        },
        "id": "5CCdX_prjCwt",
        "outputId": "a3111cac-047e-44d5-a3a5-da2255beb0e6"
      },
      "source": [
        "#¿Cuántos niños han sufrido un ataque al corazón?\n",
        "niños_ataque =(datos_infantes['ataque_cardiaco'] == 'YES').sum()\n",
        "print(niños_ataque)\n",
        "#¿Qué % representa?\n",
        "print(f'{round(niños_ataque / NT*100,2)} %')"
      ],
      "execution_count": 42,
      "outputs": [
        {
          "output_type": "stream",
          "text": [
            "4\n",
            "0.01 %\n"
          ],
          "name": "stdout"
        }
      ]
    },
    {
      "cell_type": "code",
      "metadata": {
        "colab": {
          "base_uri": "https://localhost:8080/"
        },
        "id": "NFqOkgpKjUhi",
        "outputId": "4ce31fc3-aee4-42b7-d819-7d4f91cc1769"
      },
      "source": [
        "#¿Cuántos niños han sufrido un derrame cerebrovascular?\n",
        "niños_derrame =(datos_infantes['derrame_cerebrovascular'] == 'YES').sum()\n",
        "print(niños_derrame)\n",
        "#¿Qué % representa?\n",
        "print(f'{round(niños_derrame / NT*100,2)} %')"
      ],
      "execution_count": 43,
      "outputs": [
        {
          "output_type": "stream",
          "text": [
            "11\n",
            "0.04 %\n"
          ],
          "name": "stdout"
        }
      ]
    },
    {
      "cell_type": "code",
      "metadata": {
        "colab": {
          "base_uri": "https://localhost:8080/"
        },
        "id": "UzdzFTRrjmrh",
        "outputId": "bcc92969-700e-460b-f4ed-9d91beb1d258"
      },
      "source": [
        "#¿Cuántos niños han sufrido otra enfermedad cadiaca?\n",
        "niños_otra =(datos_infantes['otra_enfermedad_cardiaca'] == 'YES').sum()\n",
        "print(niños_otra)\n",
        "#¿Qué % representa?\n",
        "print(f'{round(niños_otra / NT*100,2)} %')"
      ],
      "execution_count": 44,
      "outputs": [
        {
          "output_type": "stream",
          "text": [
            "177\n",
            "0.61 %\n"
          ],
          "name": "stdout"
        }
      ]
    },
    {
      "cell_type": "markdown",
      "metadata": {
        "id": "FdxIoFA3ku7X"
      },
      "source": [
        "#POSTWORK 8 \r\n",
        "\r\n",
        "<p align=\"justify\">Con este análisis exploratorio fue posible conocer mas acerca de las características generales de nuestras poblaciones, tanto de adultos como de infantes. Cabe resaltar que decidimos analizar población infantil ya que México ocupa el primer lugar de obsesidad infantil, por lo que es importante tomar en cuenta a este grupo vulnerable, esto para poder plantear estrategias que ayuden a disminuir la incidencia de la enfermedad de manera general.\r\n",
        "\r\n",
        "<p align=\"justify\">Además, se pudieron resolver algunas preguntas planteadas al inicio del análisis sobre el número de personas que presentan alguna enfermedad cardiovascular, el porcentaje de hombres y mujeres, fumadores y no fumadores, entre otras. Si bien estos porcentajes hablan por sí mismos, resulta necesario contar con una forma de mostrarlos graficamente.\r\n",
        "\r\n",
        "<p align=\"justify\">También consideramos que estos datos nos serán de utilidad para corroborar las conclusiones a las que se llegaron anteriormente sobre los factores que influyen de manera significativa al desarrollo de enfermedades cardiovasculares.\r\n",
        "\r\n",
        "En cuanto a los planes a futuro se tiene:\r\n",
        "\r\n",
        "<div align=\"justify\">\r\n",
        "\r\n",
        "*   Presentar graficamente hallazgos realizados en este análisis para una mejor visualización y descripción de nuestra población en relación a cada factor de riesgo.\r\n",
        "*   Validar la aplicación del modelo predictivo previamente planteado.\r\n",
        "* Realizar un anáisis estadístico más amplio con el fin de establecer un modelo predictivo ajustado para la población infantil.\r\n",
        "* Dependiendo de los resultados, sugerir replantear estrategias específicas para reducir el índice de morbilidad y mortalidad.\r\n",
        "*Detectar a pacientes en grupos de alto riesgo, con el fin de predecir un diagnóstico temprano del desarrollo de la enfermedad.\r\n",
        "</p>\r\n",
        "\r\n",
        "\r\n",
        "\r\n",
        "\r\n"
      ]
    },
    {
      "cell_type": "markdown",
      "metadata": {
        "id": "RxeYH-NkVhge"
      },
      "source": [
        "\n",
        "#<center>REFERENCIAS\n",
        "\n",
        "\n",
        "<div align=\"justify\">\n",
        "\t1. Instituto Nacional de Estadística y Geografía (INEGI). Comunicado de prensa NÚM. 61/21 “Características de las defunciones registradas en México durante enero a agosto de 2020” https://www.inegi.org.mx/contenidos/saladeprensa/boletines/2021/EstSociodemo/DefuncionesRegistradas2020_Pnles.pdf \n",
        "<div align=\"justify\">\n",
        "\t2. Secretaría de Salud. “Programa de Acción Específico. Prevención y Control de la Obesidad y Riesgo Cardiovascular. Programa Sectorial De Salud 2013-2018”. http://www.cenaprece.salud.gob.mx/descargas/pdf/PAE_PrevencionControlObesidadRiesgoCardiovascular2013_2018.pdf \n",
        "<div align=\"justify\">\n",
        "\t3. Secretaría de Salud (2001). “Programa de Acción Enfermedades Cardiovasculares e Hipertensión Arterial” http://www.salud.gob.mx/unidades/cdi/documentos/enf_cardiovasculares.pdf \n",
        "<div align=\"justify\">\n",
        "\t4. Dávila CCA. Tendencia e impacto de la mortalidad por enfermedades cardiovasculares en México, 1990-2015. Revista Cubana de Salud Pública. 2019;45(4):1-18. https://www.scielosp.org/article/rcsp/2019.v45n4/e1081/# \n",
        "<div align=\"justify\">\n",
        "\t5. Encuesta Nacional de Salud y Nutrición (ENSANUT) 2018 Presentación de resultados https://ensanut.insp.mx/encuestas/ensanut2018/doctos/informes/ensanut_2018_presentacion_resultados.pdf \n",
        "  <div align=\"justify\"> \n",
        "\t6. Sánchez Arias, A., Bobadilla Serrano, M., Dimas Altamirano, B., Gómez Ortega, M, et al. (2016). “Enfermedad cardiovascular: primera causa de morbilidad en un hospital de tercer nivel”. Revista Mexicana de Cardiología. https://www.medigraphic.com/pdfs/cardio/h-2016/hs163a.pdf\n",
        "  <div align=\"justify\">\n",
        "\t7. World Heart Federation. “FACTSHEET: Enfermedades Cardiovasculares en México”. https://www.world-heart-federation.org/wp content/uploads/2017/05/Cardiovascular_diseases_in_Mexico__Spanish_.pdf\n",
        "  <div align=\"justify\">\n",
        "\t8. Instituto Nacional de Estadística y Geografía (INEGI). Comunicado de prensa NÚM. 525/18 “Características de las defunciones registradas en México durante 2017” https://www.inegi.org.mx/contenidos/saladeprensa/boletines/2018/EstSociodemo/DEFUNCIONES2017.pdf \n",
        "  <div align=\"justify\">\n",
        "\t9. Instituto Nacional de Estadística y Geografía (INEGI). Comunicado de prensa NÚM. 538/19 “Características de las defunciones registradas en México durante 2018” https://www.inegi.org.mx/contenidos/saladeprensa/boletines/2019/EstSociodemo/DefuncionesRegistradas2019.pdf \n",
        "  <div align=\"justify\">\n",
        "\t10. Instituto Nacional de Estadística y Geografía (INEGI). Nota técnica. “Estadística de defunciones registradas 2019” https://www.inegi.org.mx/contenidos/programas/mortalidad/doc/defunciones_registradas_2019_nota_tecnica.pdf \n",
        "  <div align=\"justify\">\n",
        "\t11. Lau WB, Ohashi K, Wang Y, Ogawa H, Murohara T, Ma XL, et al. Role of adipokines in cardiovascular disease. Circ J. 2017;81(7): 920–8. https://doi.org/10.1253/circj.CJ-17-0458.\n",
        "  <div align=\"justify\">\n",
        "\t12. Global Obesity Health Collaborators. Health effects of overweight and obesity in 195 countries over 25 years. N Engl J Med. 2017;377(1):13–27. https://doi.org/10.1056/NEJMc1710026.\n",
        "  <div align=\"justify\">\n",
        "\t13. https://www.insp.mx/avisos/4884-la-obesidad-mexico.html “La obesidad en México. Estado de la política pública y recomendaciones para su prevención y control”.\n",
        "  <div align=\"justify\">\n",
        "\t14. https://www.who.int/es/news-room/fact-sheets/detail/obesity-and-overweight\n",
        "  <div align=\"justify\">\n",
        "\t15. Lavie CJ, McAuley PA, Church TS, Milani RV, Blair SN. Obesity and cardiovascular diseases: implications regarding fitness, fatness, and severity in the obesity paradox. J Am Coll Cardiol. 2014;63(14):1345–54. https://doi.org/10.1016/j.jacc.2014.01.022.\n",
        "  <div align=\"justify\">\n",
        "\t16. Ortega FB, Lavie CJ, Blair SN. Obesity and cardiovascular disease. Circ Res. 2016;118(11):1752–70. https://doi.org/10.1161/ CIRCRESAHA.115.306883.\n",
        "  <div align=\"justify\">\n",
        "\t17. Caleyachetty R, Thomas GN, Toulis KA, Mohammed N, Gokhale KM, Balachandran K, et al. Metabolically healthy obese and inci- dent cardiovascular disease events among 3.5 million men and women. J Am Coll Cardiol. 2017;70(12):1429–37. https://doi.org/ 10.1016/j.jacc.2017.07.763.\n",
        "  <div align=\"justify\">\n",
        "\t18. Ortega FB, Cadenas-Sanchez C, Migueles JH, Labayen I, Ruiz JR, Sui X, et al. Role of physical activity and fitness in the char- acterization and prognosis of the metabolically healthy obesity phenotype: a systematic review and meta-analysis. Prog Cardiovasc Dis. 2018;61(2):190–205. https://doi.org/10.1016/j. pcad.2018.07.008.\n",
        "  <div align=\"justify\">\n",
        "\t19. Zheng R, Liu C, Wang C, Zhou B, Liu Y, Pan F, et al. Natural course of metabolically healthy overweight/obese subjects and the impact of weight change. Nutrients. 2016;8(7):430. https://doi.org/ 10.3390/nu8070430.\n",
        "  <div align=\"justify\">\n",
        "\t20. De Marco VG, Aroor AR, Sowers JR. The pathophysiology of hy- pertension in patients with obesity. Nat Rev Endocrinol. 2014;10(6):364–76. https://doi.org/10.1038/nrendo.2014.44.\n",
        "  <div align=\"justify\">\n",
        "\t21. Whelton PK, Carey RM, Aronow WS, Casey DE Jr, Collins KJ, Dennison Himmelfarb C, et al. 2017 ACC/AHA/AAPA/ABC/ ACPM/AGS/APhA/ ASH/ASPC/NMA/PCNA guideline for the prevention, detection, evaluation, and management of high blood pressure in adults a report of the American College of Cardiology/ American Heart Association task force on clinical pr. Hypertension. 2018;71(6):e13–e115. https://doi.org/10.1161/HYP.\n",
        "  <div align=\"justify\">\n",
        "\t22. McGill HC, McMahan CA, Herderick EE, et al. Obesity accelerates the progression of coronary atherosclerosis in young men. Circulation. 2002;105(23):2712–8. https://doi.org/10.1161/01. CIR.0000018121.67607.CE.\n",
        "  <div align=\"justify\">\n",
        "\t23.  Jahangir E, De Schutter A, Lavie CJ. Low weight and overweightness in older adults: risk and clinical management. Prog Cardiovasc Dis. 2014;57(2):127–33. https://doi.org/10. 1016/j.pcad.2014.01.001.\n",
        "  <div align=\"justify\">\n",
        "\t24. Lavie CJ, Milani RV, Artham SM, Patel DA, Ventura HO. The obesity paradox, weight loss, and coronary disease. Am J Med. 2009;122(12):1106–14. https://doi.org/10.1016/j.amjmed.2009. 06.006.\n",
        "  <div align=\"justify\">\n",
        "\t25. Kenchaiah S, Chesebro J. The epidemiologic association between obesity and heart failure. Am Coll Cardiol Ext Learn. 2017;49(8): 4–6.\n",
        "  <div align=\"justify\">\n",
        "\t26. Swift DL, McGee JE, Earnest CP, Carlisle E, Nygard M, Johannsen NM. The effects of exercise and physical activity on weight loss and maintenance. Prog Cardiovasc Dis. 2018;61(2):206–13. https:// doi.org/10.1016/j.pcad.2018.07.014.\n",
        "  <div align=\"justify\">\n",
        "\t27. Piercy KL, Troiano RP, Ballard RM, Carlson SA, Fulton JE, Galuska DA, et al. The physical activity guidelines for Americans. JAMA. 2018;320(19):2020–8. https://doi.org/10. 1001/jama.2018.14854.\n",
        "  <div align=\"justify\">\n",
        "\t28. Organización Mundial de la Salud. Enfermedades cardiovasculares. 2017. https://www.who.int/es/news-room/fact-sheets/detail/cardiovascular-diseases-(cvds).\n",
        "  <div align=\"justify\">\n",
        "\t29. Centers for Disease Control and Prevention (US); National Center for Chronic Disease Prevention and Health Promotion (US); Office on Smoking and Health (US). How Tobacco Smoke Causes Disease: The Biology and Behavioral Basis for Smoking-Attributable Disease: A Report of the Surgeon General. Atlanta (GA): Centers for Disease Control and Prevention (US); 2010. 6, Cardiovascular Diseases. https://www.ncbi.nlm.nih.gov/books/NBK53012/#_ch6_s101_\n",
        "  <div align=\"justify\">\n",
        "\t30. Secretaría de Salud. Fumar también enferma tu corazón. https://www.gob.mx/salud/articulos/fumar-tambien-enferma-tu-corazon?idiom=es\n",
        "  <div align=\"justify\">\n",
        "\t31. Shamah-Levy T, Vielma-Orozco E, Heredia-Hernández O, Romero-Martínez M, Mojica-Cuevas J, Cuevas-Nasu L, Santaella-Castell JA, Rivera-Dommarco J. Encuesta Nacional de Salud y Nutrición 2018-19: Resultados Nacionales. Cuernavaca, México: Instituto Nacional de Salud Pública, 2020.  https://ensanut.insp.mx/encuestas/ensanut2018/doctos/informes/ensanut_2018_informe_final.pdf\n",
        "  <div align=\"justify\">\n",
        "\t32. Centers for Disease Control and Prevention (US); National Center for Chronic Disease Prevention and Health Promotion (US); Office on Smoking and Health (US). How Tobacco Smoke Causes Disease: The Biology and Behavioral Basis for Smoking-Attributable Disease: A Report of the Surgeon General. Atlanta (GA): Centers for Disease Control and Prevention (US); 2010. 6, Cardiovascular Diseases.  https://www.ncbi.nlm.nih.gov/books/NBK53012/#_ch6_s101_\n",
        "  <div align=\"justify\">\n",
        "\t33. Organización Panamericana de la Salud. Control del tabaco. https://www.paho.org/es/temas/ prevencion-control-tabaco \n",
        "  <div align=\"justify\">\n",
        "\t34. Organización Mundial de la Salud.El consumo nocivo de alcohol mata a más de 3 millones de personas al año, en su mayoría hombres.2018. https://www.who.int/es/newsitem21-09-2018-harmful-use-of-alcohol-kills-more-than-3-million-people-each-year--most-of-them-men\n",
        "  <div align=\"justify\">\n",
        "\t35. Anderson P, Gual A, Colon J. Alcohol y atención primaria de la salud: informaciones clínicas básicas para la identificación y el manejo de riesgos y problemas. 2008. Washington, D.C.: OPS. https://www.who.int/substance_abuse/publications/alcohol_atencion_primaria.pdf\n",
        "  <div align=\"justify\">\n",
        "\t36. Organización Mundial de la Salud. Estrategia mundial sobre régimen alimentaria, actividad física y salud. Dieta.  https://www.who.int/dietphysicalactivity/diet/es/\n",
        "  <div align=\"justify\">\n",
        "\t37. Organización Mundial de la Salud. Reducir el consumo de sal. 2020. https://www.who.int/es/news- room/fact-sheets/detail/salt-reduction\n",
        "  <div align=\"justify\">\n",
        "\t38. Organización Panamericana de la Salud.Nutrición. https://www.paho.org/es/temas/nutricion\n",
        "  <div align=\"justify\">\n",
        "\t39. UNICEF, México. UNICEF: El etiquetado frontal de alimentos y bebidas aprobado en México, “de los mejores del mundo”.2020. https://www.unicef.org/mexico/comunicados-prensa/unicef-el-etiquetado-frontal-de-alimentos-y-bebidas-aprobado-en-méxico-de-los\n",
        "\n",
        "\n"
      ]
    }
  ]
}